{
 "cells": [
  {
   "cell_type": "markdown",
   "id": "b2bd47f5",
   "metadata": {},
   "source": [
    "# I. Random"
   ]
  },
  {
   "cell_type": "markdown",
   "id": "6798f17d",
   "metadata": {},
   "source": [
    "## I.1: Thuật toán random"
   ]
  },
  {
   "cell_type": "code",
   "execution_count": null,
   "id": "647ab082",
   "metadata": {},
   "outputs": [],
   "source": [
    "#Thuật toán random trong py là Mersenne Twister: https://en.wikipedia.org/wiki/Mersenne_Twister\n"
   ]
  },
  {
   "cell_type": "markdown",
   "id": "ff3c96a9",
   "metadata": {},
   "source": [
    "## I.2: Code random"
   ]
  },
  {
   "cell_type": "code",
   "execution_count": null,
   "id": "3ba68e27",
   "metadata": {},
   "outputs": [],
   "source": [
    "#Lấy từ: https://www.askpython.com/python-modules/python-random-module-generate-random-numbers-sequences\n",
    "#Trang askpython là 1 trang giúp ta có thể tìm kiếm thông tin về Python\n",
    "\n"
   ]
  },
  {
   "cell_type": "code",
   "execution_count": null,
   "id": "d7cb2cae",
   "metadata": {},
   "outputs": [],
   "source": []
  },
  {
   "cell_type": "code",
   "execution_count": null,
   "id": "8ead1486",
   "metadata": {},
   "outputs": [],
   "source": []
  }
 ],
 "metadata": {
  "kernelspec": {
   "display_name": "Python 3 (ipykernel)",
   "language": "python",
   "name": "python3"
  },
  "language_info": {
   "codemirror_mode": {
    "name": "ipython",
    "version": 3
   },
   "file_extension": ".py",
   "mimetype": "text/x-python",
   "name": "python",
   "nbconvert_exporter": "python",
   "pygments_lexer": "ipython3",
   "version": "3.8.8"
  }
 },
 "nbformat": 4,
 "nbformat_minor": 5
}
