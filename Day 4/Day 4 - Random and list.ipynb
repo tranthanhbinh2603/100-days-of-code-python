{
 "cells": [
  {
   "cell_type": "markdown",
   "id": "b2bd47f5",
   "metadata": {},
   "source": [
    "# I. Random"
   ]
  },
  {
   "cell_type": "markdown",
   "id": "6798f17d",
   "metadata": {},
   "source": [
    "## I.1: Thuật toán random"
   ]
  },
  {
   "cell_type": "markdown",
   "id": "2549a650",
   "metadata": {},
   "source": [
    "##### Thuật toán random trong py là Mersenne Twister: https://en.wikipedia.org/wiki/Mersenne_Twister\n"
   ]
  },
  {
   "cell_type": "markdown",
   "id": "59020093",
   "metadata": {},
   "source": [
    "## I.2: Code random"
   ]
  },
  {
   "cell_type": "code",
   "execution_count": 13,
   "id": "3ba68e27",
   "metadata": {},
   "outputs": [
    {
     "name": "stdout",
     "output_type": "stream",
     "text": [
      "3\n"
     ]
    }
   ],
   "source": [
    "#Lấy từ: https://www.askpython.com/python-modules/python-random-module-generate-random-numbers-sequences\n",
    "#Trang askpython là 1 trang giúp ta có thể tìm kiếm thông tin về Python\n",
    "import random\n",
    "print(random.randint(1,10))"
   ]
  },
  {
   "cell_type": "code",
   "execution_count": 14,
   "id": "1fd8eaf8",
   "metadata": {},
   "outputs": [
    {
     "name": "stdout",
     "output_type": "stream",
     "text": [
      "0.9172937637898049\n",
      "1.536605538193068\n"
     ]
    }
   ],
   "source": [
    "#Hoặc là các bạn có thể random từ 0 đến 1\n",
    "print(random.random())\n",
    "print(random.random() * 5)"
   ]
  },
  {
   "cell_type": "code",
   "execution_count": null,
   "id": "4602213e",
   "metadata": {},
   "outputs": [],
   "source": []
  },
  {
   "cell_type": "markdown",
   "id": "e92c7b7a",
   "metadata": {},
   "source": [
    "# II. Module trong Python"
   ]
  },
  {
   "cell_type": "markdown",
   "id": "f4a0676f",
   "metadata": {},
   "source": [
    "##### Là các thư viện được build sẵn trong python để phục vụ mục đích nào đó!\n",
    "##### Bạn cũng có thể tự tạo module"
   ]
  },
  {
   "cell_type": "code",
   "execution_count": 15,
   "id": "1a631f59",
   "metadata": {},
   "outputs": [
    {
     "name": "stdout",
     "output_type": "stream",
     "text": [
      "3.1415\n"
     ]
    }
   ],
   "source": [
    "import my_module\n",
    "print(my_module.pi)"
   ]
  },
  {
   "cell_type": "markdown",
   "id": "0f9dfd3f",
   "metadata": {},
   "source": [
    "# III. Ex 4.1 "
   ]
  },
  {
   "cell_type": "code",
   "execution_count": 5,
   "id": "12faaa64",
   "metadata": {},
   "outputs": [
    {
     "name": "stdout",
     "output_type": "stream",
     "text": [
      "Heads\n"
     ]
    }
   ],
   "source": [
    "#Code của mình\n",
    "#Write your code below this line 👇\n",
    "#Hint: Remember to import the random module first. 🎲\n",
    "import random\n",
    "if (random.randint(0,1)):\n",
    "  print('Heads')\n",
    "else:\n",
    "  print('Tails')\n"
   ]
  },
  {
   "cell_type": "markdown",
   "id": "d753fb6f",
   "metadata": {},
   "source": [
    "# IV. List"
   ]
  },
  {
   "cell_type": "code",
   "execution_count": 12,
   "id": "f0daba02",
   "metadata": {},
   "outputs": [
    {
     "name": "stdout",
     "output_type": "stream",
     "text": [
      "['item1', 'item2']\n"
     ]
    }
   ],
   "source": [
    "fruit = ['item1', 'item2']\n",
    "print(fruit)"
   ]
  },
  {
   "cell_type": "code",
   "execution_count": 15,
   "id": "47911090",
   "metadata": {},
   "outputs": [
    {
     "name": "stdout",
     "output_type": "stream",
     "text": [
      "Delaware\n",
      "Pennsylvania\n",
      "Hawaii\n"
     ]
    }
   ],
   "source": [
    "states_of_america = [\"Delaware\", \"Pennsylvania\", \"New Jersey\", \"Georgia\", \"Connecticut\", \"Massachusetts\", \"Maryland\", \"South Carolina\", \"New Hampshire\", \"Virginia\", \"New York\", \"North Carolina\", \"Rhode Island\", \"Vermont\", \"Kentucky\", \"Tennessee\", \"Ohio\", \"Louisiana\", \"Indiana\", \"Mississippi\", \"Illinois\", \"Alabama\", \"Maine\", \"Missouri\", \"Arkansas\", \"Michigan\", \"Florida\", \"Texas\", \"Iowa\", \"Wisconsin\", \"California\", \"Minnesota\", \"Oregon\", \"Kansas\", \"West Virginia\", \"Nevada\", \"Nebraska\", \"Colorado\", \"North Dakota\", \"South Dakota\", \"Montana\", \"Washington\", \"Idaho\", \"Wyoming\", \"Utah\", \"Oklahoma\", \"New Mexico\", \"Arizona\", \"Alaska\", \"Hawaii\"]\n",
    "print(states_of_america[0])\n",
    "print(states_of_america[1])\n",
    "print(states_of_america[-1])"
   ]
  },
  {
   "cell_type": "code",
   "execution_count": 17,
   "id": "1f135ce4",
   "metadata": {},
   "outputs": [
    {
     "name": "stdout",
     "output_type": "stream",
     "text": [
      "Hacker lỏid\n"
     ]
    }
   ],
   "source": [
    "states_of_america[1] = \"Hacker lỏid\"\n",
    "print(states_of_america[1])"
   ]
  },
  {
   "cell_type": "code",
   "execution_count": 18,
   "id": "4f65f488",
   "metadata": {},
   "outputs": [
    {
     "name": "stdout",
     "output_type": "stream",
     "text": [
      "['Delaware', 'Hacker lỏid', 'New Jersey', 'Georgia', 'Connecticut', 'Massachusetts', 'Maryland', 'South Carolina', 'New Hampshire', 'Virginia', 'New York', 'North Carolina', 'Rhode Island', 'Vermont', 'Kentucky', 'Tennessee', 'Ohio', 'Louisiana', 'Indiana', 'Mississippi', 'Illinois', 'Alabama', 'Maine', 'Missouri', 'Arkansas', 'Michigan', 'Florida', 'Texas', 'Iowa', 'Wisconsin', 'California', 'Minnesota', 'Oregon', 'Kansas', 'West Virginia', 'Nevada', 'Nebraska', 'Colorado', 'North Dakota', 'South Dakota', 'Montana', 'Washington', 'Idaho', 'Wyoming', 'Utah', 'Oklahoma', 'New Mexico', 'Arizona', 'Alaska', 'Hawaii', 'Hello', 'Hello']\n"
     ]
    }
   ],
   "source": [
    "states_of_america.append('Hello')\n",
    "print(states_of_america)"
   ]
  },
  {
   "cell_type": "code",
   "execution_count": 19,
   "id": "419749bf",
   "metadata": {},
   "outputs": [
    {
     "name": "stdout",
     "output_type": "stream",
     "text": [
      "['Delaware', 'Hacker lỏid', 'New Jersey', 'Georgia', 'Connecticut', 'Massachusetts', 'Maryland', 'South Carolina', 'New Hampshire', 'Virginia', 'New York', 'North Carolina', 'Rhode Island', 'Vermont', 'Kentucky', 'Tennessee', 'Ohio', 'Louisiana', 'Indiana', 'Mississippi', 'Illinois', 'Alabama', 'Maine', 'Missouri', 'Arkansas', 'Michigan', 'Florida', 'Texas', 'Iowa', 'Wisconsin', 'California', 'Minnesota', 'Oregon', 'Kansas', 'West Virginia', 'Nevada', 'Nebraska', 'Colorado', 'North Dakota', 'South Dakota', 'Montana', 'Washington', 'Idaho', 'Wyoming', 'Utah', 'Oklahoma', 'New Mexico', 'Arizona', 'Alaska', 'Hawaii', 'Hello', 'Hello', '1', '2']\n"
     ]
    }
   ],
   "source": [
    "states_of_america.extend(['1', '2'])\n",
    "print(states_of_america)"
   ]
  },
  {
   "cell_type": "markdown",
   "id": "1306c6c2",
   "metadata": {},
   "source": [
    "# V. Ex 4.2"
   ]
  },
  {
   "cell_type": "code",
   "execution_count": null,
   "id": "adb45d98",
   "metadata": {},
   "outputs": [],
   "source": [
    "#Code của mình\n",
    "# Split string method\n",
    "names_string = input(\"Give me everybody's names, separated by a comma. \")\n",
    "names = names_string.split(\", \")\n",
    "# 🚨 Don't change the code above 👆\n",
    "import random\n",
    "print(names[random.randint(0, len(names) - 1)], 'is going to buy the meal today!')\n",
    "#Write your code below this line 👇"
   ]
  },
  {
   "cell_type": "markdown",
   "id": "c7955bc2",
   "metadata": {},
   "source": [
    "# VI. List error "
   ]
  },
  {
   "cell_type": "code",
   "execution_count": 20,
   "id": "66af751a",
   "metadata": {},
   "outputs": [
    {
     "ename": "IndexError",
     "evalue": "list index out of range",
     "output_type": "error",
     "traceback": [
      "\u001b[1;31m---------------------------------------------------------------------------\u001b[0m",
      "\u001b[1;31mIndexError\u001b[0m                                Traceback (most recent call last)",
      "Input \u001b[1;32mIn [20]\u001b[0m, in \u001b[0;36m<cell line: 3>\u001b[1;34m()\u001b[0m\n\u001b[0;32m      1\u001b[0m \u001b[38;5;66;03m#1. Tràn mảng\u001b[39;00m\n\u001b[0;32m      2\u001b[0m lists \u001b[38;5;241m=\u001b[39m [\u001b[38;5;124m'\u001b[39m\u001b[38;5;124ma\u001b[39m\u001b[38;5;124m'\u001b[39m,\u001b[38;5;124m'\u001b[39m\u001b[38;5;124mb\u001b[39m\u001b[38;5;124m'\u001b[39m]\n\u001b[1;32m----> 3\u001b[0m \u001b[38;5;28mprint\u001b[39m(\u001b[43mlists\u001b[49m\u001b[43m[\u001b[49m\u001b[38;5;241;43m2\u001b[39;49m\u001b[43m]\u001b[49m)\n",
      "\u001b[1;31mIndexError\u001b[0m: list index out of range"
     ]
    }
   ],
   "source": [
    "#1. Tràn mảng\n",
    "lists = ['a','b']\n",
    "print(lists[2])"
   ]
  },
  {
   "cell_type": "code",
   "execution_count": 21,
   "id": "8ce6e483",
   "metadata": {},
   "outputs": [
    {
     "name": "stdout",
     "output_type": "stream",
     "text": [
      "[['Strawberries', 'Spinach', 'Kale', 'Nectarines', 'Apples', 'Grapes', 'Peaches', 'Cherries'], ['Pears', 'Tomatoes', 'Celery', 'Potatoes']]\n"
     ]
    }
   ],
   "source": [
    "fruit = [\"Strawberries\", \"Spinach\", \"Kale\", \"Nectarines\", \"Apples\", \"Grapes\", \"Peaches\", \"Cherries\"]\n",
    "vegetables = [\"Pears\", \"Tomatoes\", \"Celery\", \"Potatoes\"]\n",
    "dirty_dozen = [fruit, vegetables]\n",
    "print(dirty_dozen)"
   ]
  },
  {
   "cell_type": "code",
   "execution_count": 22,
   "id": "81d15ea7",
   "metadata": {},
   "outputs": [
    {
     "name": "stdout",
     "output_type": "stream",
     "text": [
      "Kale\n"
     ]
    }
   ],
   "source": [
    "fruits = [\"Strawberries\", \"Nectarines\", \"Apples\", \"Grapes\", \"Peaches\", \"Cherries\", \"Pears\"]\n",
    "vegetables = [\"Spinach\", \"Kale\", \"Tomatoes\", \"Celery\", \"Potatoes\"]\n",
    "\n",
    "dirty_dozen = [fruits, vegetables]\n",
    "\n",
    "print(dirty_dozen[1][1])"
   ]
  },
  {
   "cell_type": "markdown",
   "id": "399a6ca5",
   "metadata": {},
   "source": [
    "# VII. Ex 4.3"
   ]
  },
  {
   "cell_type": "code",
   "execution_count": null,
   "id": "e0dfd633",
   "metadata": {},
   "outputs": [],
   "source": [
    "# 🚨 Don't change the code below 👇\n",
    "row1 = [\"⬜️\",\"⬜️\",\"⬜️\"]\n",
    "row2 = [\"⬜️\",\"⬜️\",\"⬜️\"]\n",
    "row3 = [\"⬜️\",\"⬜️\",\"⬜️\"]\n",
    "map = [row1, row2, row3]\n",
    "print(f\"{row1}\\n{row2}\\n{row3}\")\n",
    "position = input(\"Where do you want to put the treasure? \")\n",
    "# 🚨 Don't change the code above 👆\n",
    "\n",
    "#Write your code below this row 👇\n",
    "row = int(int(position) / 10);\n",
    "col = int(int(position) % 10);\n",
    "map[col - 1][row - 1] = 'X'\n",
    "\n",
    "\n",
    "\n",
    "\n",
    "#Write your code above this row 👆\n",
    "\n",
    "# 🚨 Don't change the code below 👇\n",
    "print(f\"{row1}\\n{row2}\\n{row3}\")"
   ]
  },
  {
   "cell_type": "code",
   "execution_count": null,
   "id": "975c2b7a",
   "metadata": {},
   "outputs": [],
   "source": []
  },
  {
   "cell_type": "code",
   "execution_count": null,
   "id": "0c6fe302",
   "metadata": {},
   "outputs": [],
   "source": []
  },
  {
   "cell_type": "code",
   "execution_count": null,
   "id": "c010f04e",
   "metadata": {},
   "outputs": [],
   "source": []
  },
  {
   "cell_type": "code",
   "execution_count": null,
   "id": "56b63ad8",
   "metadata": {},
   "outputs": [],
   "source": []
  },
  {
   "cell_type": "code",
   "execution_count": null,
   "id": "3fef6f3e",
   "metadata": {},
   "outputs": [],
   "source": []
  },
  {
   "cell_type": "code",
   "execution_count": null,
   "id": "5d3deb69",
   "metadata": {},
   "outputs": [],
   "source": []
  }
 ],
 "metadata": {
  "kernelspec": {
   "display_name": "Python 3 (ipykernel)",
   "language": "python",
   "name": "python3"
  },
  "language_info": {
   "codemirror_mode": {
    "name": "ipython",
    "version": 3
   },
   "file_extension": ".py",
   "mimetype": "text/x-python",
   "name": "python",
   "nbconvert_exporter": "python",
   "pygments_lexer": "ipython3",
   "version": "3.8.8"
  }
 },
 "nbformat": 4,
 "nbformat_minor": 5
}
