{
 "cells": [
  {
   "cell_type": "markdown",
   "id": "7f3c9bdd",
   "metadata": {},
   "source": [
    "# I. Dictanories"
   ]
  },
  {
   "cell_type": "markdown",
   "id": "5c7b8c1b",
   "metadata": {},
   "source": [
    "### Gồm key và value"
   ]
  },
  {
   "cell_type": "code",
   "execution_count": 4,
   "id": "faa92033",
   "metadata": {},
   "outputs": [
    {
     "name": "stdout",
     "output_type": "stream",
     "text": [
      "A piece of code that you can easily call over and over again.\n"
     ]
    }
   ],
   "source": [
    "programming_dictionary = {\n",
    "    \"Bug\": \"An error in a program that prevents the program from running as expected.\", \n",
    "    \"Function\": \"A piece of code that you can easily call over and over again.\",\n",
    "    \"Loop\": \"The action of doing something over and over again.\"\n",
    "}\n",
    "print(programming_dictionary[\"Function\"])\n",
    "# Key bắt buộc phải là string"
   ]
  },
  {
   "cell_type": "code",
   "execution_count": 5,
   "id": "af6d40ef",
   "metadata": {},
   "outputs": [
    {
     "name": "stdout",
     "output_type": "stream",
     "text": [
      "{'Bug': 'An error in a program that prevents the program from running as expected.', 'Function': 'A piece of code that you can easily call over and over again.', 'Loop': 'The action of doing something over and over again.', 'Hacker': 'Là 1 tập người chuyên đi phá hoại chương trình'}\n"
     ]
    }
   ],
   "source": [
    "#new key and value\n",
    "programming_dictionary[\"Hacker\"] = \"Là 1 tập người chuyên đi phá hoại chương trình\"\n",
    "print(programming_dictionary)"
   ]
  },
  {
   "cell_type": "code",
   "execution_count": 7,
   "id": "c84b0c6b",
   "metadata": {},
   "outputs": [
    {
     "name": "stdout",
     "output_type": "stream",
     "text": [
      "{}\n"
     ]
    }
   ],
   "source": [
    "#Tạo 1 dic mới rỗng\n",
    "empty_dic = {}\n",
    "print(empty_dic)"
   ]
  },
  {
   "cell_type": "code",
   "execution_count": 8,
   "id": "8cacce34",
   "metadata": {},
   "outputs": [
    {
     "name": "stdout",
     "output_type": "stream",
     "text": [
      "{'Bug': 'An error in a program that prevents the program from running as expected.', 'Function': 'A piece of code that you can easily call over and over again.', 'Loop': 'The action of doing something over and over again.', 'Hacker': 'Là 1 tập người chuyên đi phá hoại chương trình'}\n",
      "{}\n"
     ]
    }
   ],
   "source": [
    "#ghi đè lên dic cũ\n",
    "print(programming_dictionary)\n",
    "programming_dictionary = {}\n",
    "print(programming_dictionary)"
   ]
  },
  {
   "cell_type": "code",
   "execution_count": 9,
   "id": "b57e2955",
   "metadata": {},
   "outputs": [
    {
     "name": "stdout",
     "output_type": "stream",
     "text": [
      "{'Bug': 'An error in a program that prevents the program from running as expected.', 'Function': 'A piece of code that you can easily call over and over again.', 'Loop': 'The action of doing something over and over again.'}\n",
      "{'Bug': 'Hahahahahahaha', 'Function': 'A piece of code that you can easily call over and over again.', 'Loop': 'The action of doing something over and over again.'}\n"
     ]
    }
   ],
   "source": [
    "#Chỉnh sửa 1 item\n",
    "programming_dictionary = {\n",
    "    \"Bug\": \"An error in a program that prevents the program from running as expected.\", \n",
    "    \"Function\": \"A piece of code that you can easily call over and over again.\",\n",
    "    \"Loop\": \"The action of doing something over and over again.\"\n",
    "}\n",
    "print(programming_dictionary)\n",
    "programming_dictionary[\"Bug\"] = \"Hahahahahahaha\"\n",
    "print(programming_dictionary)"
   ]
  },
  {
   "cell_type": "code",
   "execution_count": 11,
   "id": "6c893c39",
   "metadata": {},
   "outputs": [
    {
     "name": "stdout",
     "output_type": "stream",
     "text": [
      "Bug\n",
      "Function\n",
      "Loop\n",
      "Hahahahahahaha\n",
      "A piece of code that you can easily call over and over again.\n",
      "The action of doing something over and over again.\n"
     ]
    }
   ],
   "source": [
    "#Loop dic-key\n",
    "for thing in programming_dictionary:\n",
    "    print(thing)\n",
    "#Loop dic-value\n",
    "for thing in programming_dictionary:\n",
    "    print(programming_dictionary[thing])"
   ]
  },
  {
   "cell_type": "markdown",
   "id": "71f2561b",
   "metadata": {},
   "source": [
    "# II. Ex 9.1"
   ]
  },
  {
   "cell_type": "code",
   "execution_count": null,
   "id": "16d2e562",
   "metadata": {},
   "outputs": [],
   "source": [
    "student_scores = {\n",
    "  \"Harry\": 81,\n",
    "  \"Ron\": 78,\n",
    "  \"Hermione\": 99, \n",
    "  \"Draco\": 74,\n",
    "  \"Neville\": 62,\n",
    "}\n",
    "# 🚨 Don't change the code above 👆\n",
    "#TODO-1: Create an empty dictionary called student_grades.\n",
    "student_grades = {}\n",
    "#TODO-2: Write your code below to add the grades to student_grades.👇\n",
    "for key in student_scores:\n",
    "  if student_scores[key] > 90:\n",
    "    student_grades[key] = \"Outstanding\"\n",
    "  elif student_scores[key] > 80:\n",
    "    student_grades[key] = \"Exceeds Expectations\"\n",
    "  elif student_scores[key] > 70:\n",
    "    student_grades[key] = \"Acceptable\"\n",
    "  else:\n",
    "    student_grades[key] = \"Fail\"\n",
    "# 🚨 Don't change the code below 👇\n",
    "print(student_grades)"
   ]
  },
  {
   "cell_type": "markdown",
   "id": "49a43c5c",
   "metadata": {},
   "source": [
    "# III. Nesting"
   ]
  },
  {
   "cell_type": "code",
   "execution_count": 19,
   "id": "78b4aaac",
   "metadata": {},
   "outputs": [
    {
     "name": "stdout",
     "output_type": "stream",
     "text": [
      "[1, 2, 3]\n",
      "2\n",
      "{'Key 2.1': 'ABC', 'Key 2.2': [4, 5, 6], 'Key 2.3': {'Key 2.3.1': 2}}\n",
      "ABC\n",
      "5\n",
      "{'Key 2.3.1': 2}\n",
      "2\n"
     ]
    }
   ],
   "source": [
    "# Chẳng hạn:\n",
    "dict = {\n",
    "    \"Key 1\": [1, 2, 3],\n",
    "    \"Key 2\": {\n",
    "        \"Key 2.1\": \"ABC\",\n",
    "        \"Key 2.2\": [4,5,6],\n",
    "        \"Key 2.3\": {\n",
    "            \"Key 2.3.1\": 2\n",
    "        }\n",
    "    }\n",
    "}\n",
    "#Test dict\n",
    "print(dict[\"Key 1\"])\n",
    "print(dict[\"Key 1\"][1])\n",
    "print(dict[\"Key 2\"])\n",
    "print(dict[\"Key 2\"][\"Key 2.1\"])\n",
    "print(dict[\"Key 2\"][\"Key 2.2\"][1])\n",
    "print(dict[\"Key 2\"][\"Key 2.3\"])\n",
    "print(dict[\"Key 2\"][\"Key 2.3\"][\"Key 2.3.1\"])"
   ]
  },
  {
   "cell_type": "code",
   "execution_count": 20,
   "id": "aacb3191",
   "metadata": {},
   "outputs": [
    {
     "name": "stdout",
     "output_type": "stream",
     "text": [
      "{'Hacker': 'A', 'Cheater': 'B'}\n",
      "A\n",
      "Hahaha có cái quần què\n"
     ]
    }
   ],
   "source": [
    "# Đối với list cũng được:\n",
    "list = [\n",
    "    {\n",
    "        \"Hacker\": \"A\",\n",
    "        \"Cheater\": \"B\"\n",
    "    },\n",
    "    \"Hahaha có cái quần què\"\n",
    "]\n",
    "#Test List\n",
    "print(list[0])\n",
    "print(list[0][\"Hacker\"])\n",
    "print(list[1])"
   ]
  },
  {
   "cell_type": "markdown",
   "id": "3b2e74fa",
   "metadata": {},
   "source": [
    "# IV. Ex 9.2"
   ]
  },
  {
   "cell_type": "code",
   "execution_count": null,
   "id": "8fe0eff2",
   "metadata": {},
   "outputs": [],
   "source": [
    "travel_log = [\n",
    "{\n",
    "  \"country\": \"France\",\n",
    "  \"visits\": 12,\n",
    "  \"cities\": [\"Paris\", \"Lille\", \"Dijon\"]\n",
    "},\n",
    "{\n",
    "  \"country\": \"Germany\",\n",
    "  \"visits\": 5,\n",
    "  \"cities\": [\"Berlin\", \"Hamburg\", \"Stuttgart\"]\n",
    "},\n",
    "]\n",
    "#🚨 Do NOT change the code above\n",
    "#TODO: Write the function that will allow new countries\n",
    "#to be added to the travel_log. 👇\n",
    "def add_new_country(country, visits, cities):\n",
    "  new_travel = {}\n",
    "  new_travel[\"country\"] = country\n",
    "  new_travel[\"visits\"] = visits\n",
    "  new_travel[\"cities\"] = cities\n",
    "  travel_log.append(new_travel)\n",
    "#🚨 Do not change the code below\n",
    "add_new_country(\"Russia\", 2, [\"Moscow\", \"Saint Petersburg\"])\n",
    "print(travel_log)"
   ]
  },
  {
   "cell_type": "markdown",
   "id": "18ccd826",
   "metadata": {},
   "source": [
    "# V. Project days 9"
   ]
  },
  {
   "cell_type": "code",
   "execution_count": 31,
   "id": "08ab64f2",
   "metadata": {},
   "outputs": [
    {
     "name": "stdout",
     "output_type": "stream",
     "text": [
      "\n",
      "                         ___________\n",
      "                         \\         /\n",
      "                          )_______(\n",
      "                          |\"\"\"\"\"\"\"|_.-._,.---------.,_.-._\n",
      "                          |       | | |               | | ''-.\n",
      "                          |       |_| |_             _| |_..-'\n",
      "                          |_______| '-' `'---------'` '-'\n",
      "                          )\"\"\"\"\"\"\"(\n",
      "                         /_________\\\n",
      "                       .-------------.\n",
      "                      /_______________\\\n",
      "\n",
      "Welcome to the screer auction program\n",
      "What is your name? binh\n",
      "What is your bid? $200\n",
      "Are there any other bidders? Type yes or noyes\n",
      "What is your name? an\n",
      "What is your bid? $300\n",
      "Are there any other bidders? Type yes or nono\n",
      "The winner is an with a bid of 300\n"
     ]
    }
   ],
   "source": [
    "from art import logo\n",
    "print(logo)\n",
    "\n",
    "dict = {}\n",
    "\n",
    "print(\"Welcome to the screer auction program\")\n",
    "name = str(input(\"What is your name? \"))\n",
    "bid = int(input(\"What is your bid? $\"))\n",
    "dict[name] = bid;\n",
    "\n",
    "while True:\n",
    "    cont = str(input(\"Are there any other bidders? Type yes or no\")).upper();\n",
    "    if (cont == \"NO\"):\n",
    "        break\n",
    "    else:\n",
    "        name = str(input(\"What is your name? \"))\n",
    "        bid = int(input(\"What is your bid? $\"))\n",
    "        dict[name] = bid;\n",
    "\n",
    "max_key = \"\"\n",
    "max_bid = 0\n",
    "for key in dict:\n",
    "    if max_bid < dict[key]:\n",
    "        max_key = key;\n",
    "        max_bid = dict[key]\n",
    "print(f\"The winner is {max_key} with a bid of {max_bid}\")"
   ]
  },
  {
   "cell_type": "code",
   "execution_count": null,
   "id": "9d84cd4e",
   "metadata": {},
   "outputs": [],
   "source": [
    "#Có thể chạy logic code tại https://pythontutor.com/visualize.html"
   ]
  }
 ],
 "metadata": {
  "kernelspec": {
   "display_name": "Python 3 (ipykernel)",
   "language": "python",
   "name": "python3"
  },
  "language_info": {
   "codemirror_mode": {
    "name": "ipython",
    "version": 3
   },
   "file_extension": ".py",
   "mimetype": "text/x-python",
   "name": "python",
   "nbconvert_exporter": "python",
   "pygments_lexer": "ipython3",
   "version": "3.8.8"
  }
 },
 "nbformat": 4,
 "nbformat_minor": 5
}
