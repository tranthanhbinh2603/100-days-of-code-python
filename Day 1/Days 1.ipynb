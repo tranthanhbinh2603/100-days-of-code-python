{
 "cells": [
  {
   "cell_type": "markdown",
   "id": "a6b289bf",
   "metadata": {},
   "source": [
    "# I. Xuống dòng trong Python"
   ]
  },
  {
   "cell_type": "code",
   "execution_count": 1,
   "id": "af74ce60",
   "metadata": {},
   "outputs": [
    {
     "name": "stdout",
     "output_type": "stream",
     "text": [
      "1\n",
      "2\n"
     ]
    }
   ],
   "source": [
    "# Muốn xuống dòng dùng \\n\n",
    "print(\"1\\n2\");"
   ]
  },
  {
   "cell_type": "code",
   "execution_count": 2,
   "id": "2e3f1ea5",
   "metadata": {},
   "outputs": [
    {
     "name": "stdout",
     "output_type": "stream",
     "text": [
      "1\n",
      "2\n",
      "3\n"
     ]
    }
   ],
   "source": [
    "print(\"1\\n2\\n3\");"
   ]
  },
  {
   "cell_type": "code",
   "execution_count": 3,
   "id": "2a25d545",
   "metadata": {},
   "outputs": [
    {
     "name": "stdout",
     "output_type": "stream",
     "text": [
      "HelloBinh\n"
     ]
    }
   ],
   "source": [
    "print(\"Hello\" + \"Binh\")"
   ]
  },
  {
   "cell_type": "code",
   "execution_count": 15,
   "id": "c42571f5",
   "metadata": {},
   "outputs": [
    {
     "name": "stdout",
     "output_type": "stream",
     "text": [
      "Đố hiện ra được\n"
     ]
    }
   ],
   "source": [
    "#Chú ý dấu cách trong khi thực hiện lệnh"
   ]
  },
  {
   "cell_type": "markdown",
   "id": "2ae8607b",
   "metadata": {},
   "source": [
    "# II. Hàm input"
   ]
  },
  {
   "cell_type": "code",
   "execution_count": 1,
   "id": "4c899ac9",
   "metadata": {},
   "outputs": [
    {
     "name": "stdout",
     "output_type": "stream",
     "text": [
      "What is your name?\n"
     ]
    }
   ],
   "source": [
    "print(\"What is your name?\")"
   ]
  },
  {
   "cell_type": "code",
   "execution_count": 2,
   "id": "bfc63ddd",
   "metadata": {},
   "outputs": [
    {
     "name": "stdout",
     "output_type": "stream",
     "text": [
      "What is your name?Tranthanhbinh\n"
     ]
    }
   ],
   "source": [
    "i = input(\"What is your name?\")"
   ]
  },
  {
   "cell_type": "code",
   "execution_count": 3,
   "id": "ac979d1d",
   "metadata": {},
   "outputs": [
    {
     "name": "stdout",
     "output_type": "stream",
     "text": [
      "Tranthanhbinh\n"
     ]
    }
   ],
   "source": [
    "print(i)"
   ]
  },
  {
   "cell_type": "markdown",
   "id": "84ca4869",
   "metadata": {},
   "source": [
    "## mở rộng hàm len - Lấy số kí tự của 1 chuỗi"
   ]
  },
  {
   "cell_type": "code",
   "execution_count": 4,
   "id": "45ef7f06",
   "metadata": {},
   "outputs": [
    {
     "name": "stdout",
     "output_type": "stream",
     "text": [
      "nnnnnnnnn\n",
      "9\n"
     ]
    }
   ],
   "source": [
    "s = input()\n",
    "print(len(s))"
   ]
  },
  {
   "cell_type": "markdown",
   "id": "efd3877a",
   "metadata": {},
   "source": [
    "# III. Biến trong python"
   ]
  },
  {
   "cell_type": "code",
   "execution_count": 5,
   "id": "34f3fff9",
   "metadata": {},
   "outputs": [
    {
     "name": "stdout",
     "output_type": "stream",
     "text": [
      "What is your name?Tranthanhbinh\n",
      "Tranthanhbinh\n"
     ]
    }
   ],
   "source": [
    "name = input(\"What is your name?\")\n",
    "print(name)"
   ]
  },
  {
   "cell_type": "code",
   "execution_count": 6,
   "id": "3bf033f9",
   "metadata": {},
   "outputs": [
    {
     "name": "stdout",
     "output_type": "stream",
     "text": [
      "Jack\n",
      "Angela\n"
     ]
    }
   ],
   "source": [
    "name = \"Jack\"\n",
    "print(name)\n",
    "name = \"Angela\"\n",
    "print(name)"
   ]
  },
  {
   "cell_type": "code",
   "execution_count": 12,
   "id": "e2eca477",
   "metadata": {},
   "outputs": [
    {
     "ename": "TypeError",
     "evalue": "'str' object is not callable",
     "output_type": "error",
     "traceback": [
      "\u001b[1;31m---------------------------------------------------------------------------\u001b[0m",
      "\u001b[1;31mTypeError\u001b[0m                                 Traceback (most recent call last)",
      "Input \u001b[1;32mIn [12]\u001b[0m, in \u001b[0;36m<cell line: 2>\u001b[1;34m()\u001b[0m\n\u001b[0;32m      1\u001b[0m \u001b[38;5;66;03m#print(len(input(\"What is your name?\")))\u001b[39;00m\n\u001b[1;32m----> 2\u001b[0m name \u001b[38;5;241m=\u001b[39m \u001b[38;5;28;43minput\u001b[39;49m\u001b[43m(\u001b[49m\u001b[38;5;124;43m\"\u001b[39;49m\u001b[38;5;124;43mWhat is your name?\u001b[39;49m\u001b[38;5;124;43m\"\u001b[39;49m\u001b[43m)\u001b[49m\n\u001b[0;32m      3\u001b[0m length \u001b[38;5;241m=\u001b[39m \u001b[38;5;28mlen\u001b[39m(name)\n\u001b[0;32m      4\u001b[0m \u001b[38;5;28mprint\u001b[39m(length)\n",
      "\u001b[1;31mTypeError\u001b[0m: 'str' object is not callable"
     ]
    }
   ],
   "source": [
    "#print(len(input(\"What is your name?\")))\n",
    "name = input(\"What is your name?\")\n",
    "length = len(name)\n",
    "print(length)"
   ]
  },
  {
   "cell_type": "code",
   "execution_count": null,
   "id": "2d2fb977",
   "metadata": {},
   "outputs": [],
   "source": [
    "#Các quy tắc đặt tên biến\n",
    "# - Khuyên: Đừng đặt tên ngắn quá\n",
    "# - Biến không chứa khoảng cách\n",
    "# - Biến không bắt đầu bằng chữ số\n",
    "# - Cho phép đặt tên biến trùng hàm\n",
    "# - Biến phải đã được khai báo trước khi xài lại"
   ]
  },
  {
   "cell_type": "markdown",
   "id": "04d50fc4",
   "metadata": {},
   "source": [
    "# IV: Project cuối ngày"
   ]
  },
  {
   "cell_type": "code",
   "execution_count": 15,
   "id": "3b035861",
   "metadata": {},
   "outputs": [
    {
     "name": "stdout",
     "output_type": "stream",
     "text": [
      "Hello to this program!\n"
     ]
    },
    {
     "ename": "TypeError",
     "evalue": "'str' object is not callable",
     "output_type": "error",
     "traceback": [
      "\u001b[1;31m---------------------------------------------------------------------------\u001b[0m",
      "\u001b[1;31mTypeError\u001b[0m                                 Traceback (most recent call last)",
      "Input \u001b[1;32mIn [15]\u001b[0m, in \u001b[0;36m<cell line: 4>\u001b[1;34m()\u001b[0m\n\u001b[0;32m      2\u001b[0m \u001b[38;5;28mprint\u001b[39m(\u001b[38;5;124m'\u001b[39m\u001b[38;5;124mHello to this program!\u001b[39m\u001b[38;5;124m'\u001b[39m)\n\u001b[0;32m      3\u001b[0m \u001b[38;5;66;03m#2. Ask the user for the city that they grew up in.\u001b[39;00m\n\u001b[1;32m----> 4\u001b[0m loc \u001b[38;5;241m=\u001b[39m \u001b[38;5;28;43minput\u001b[39;49m\u001b[43m(\u001b[49m\u001b[38;5;28;43mstr\u001b[39;49m\u001b[43m(\u001b[49m\u001b[38;5;124;43m\"\u001b[39;49m\u001b[38;5;124;43mWhere are you from? \u001b[39;49m\u001b[38;5;124;43m\"\u001b[39;49m\u001b[43m)\u001b[49m\u001b[43m)\u001b[49m\n\u001b[0;32m      5\u001b[0m \u001b[38;5;66;03m#3. Ask the user for the name of a pet.\u001b[39;00m\n\u001b[0;32m      6\u001b[0m name_pet \u001b[38;5;241m=\u001b[39m \u001b[38;5;28minput\u001b[39m(\u001b[38;5;124m'\u001b[39m\u001b[38;5;124mName of a pet: \u001b[39m\u001b[38;5;124m'\u001b[39m)\n",
      "\u001b[1;31mTypeError\u001b[0m: 'str' object is not callable"
     ]
    }
   ],
   "source": [
    "#1. Create a greeting for your program.\n",
    "print('Hello to this program!')\n",
    "#2. Ask the user for the city that they grew up in.\n",
    "loc = input(str(\"Where are you from? \"))\n",
    "#3. Ask the user for the name of a pet.\n",
    "name_pet = input('Name of a pet: ')\n",
    "#4. Combine the name of their city and pet and show them their band name.\n",
    "print('You are from ' + loc + \" and name a pet is \" + name_pet) \n",
    "#5. Make sure the input cursor shows on a new line, see the example at:\n",
    "#   https://replit.com/@appbrewery/band-name-generator-end"
   ]
  }
 ],
 "metadata": {
  "kernelspec": {
   "display_name": "Python 3 (ipykernel)",
   "language": "python",
   "name": "python3"
  },
  "language_info": {
   "codemirror_mode": {
    "name": "ipython",
    "version": 3
   },
   "file_extension": ".py",
   "mimetype": "text/x-python",
   "name": "python",
   "nbconvert_exporter": "python",
   "pygments_lexer": "ipython3",
   "version": "3.8.8"
  }
 },
 "nbformat": 4,
 "nbformat_minor": 5
}
