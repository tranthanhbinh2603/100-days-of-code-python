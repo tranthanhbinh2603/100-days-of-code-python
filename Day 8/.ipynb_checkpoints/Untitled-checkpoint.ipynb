{
 "cells": [
  {
   "cell_type": "markdown",
   "id": "a5e406ff",
   "metadata": {},
   "source": [
    "# I. More function"
   ]
  },
  {
   "cell_type": "code",
   "execution_count": 2,
   "id": "866fab3f",
   "metadata": {},
   "outputs": [
    {
     "name": "stdout",
     "output_type": "stream",
     "text": [
      "1+1=2\n",
      "1=1\n"
     ]
    }
   ],
   "source": [
    "#Review:\n",
    "#Create a function called greet().\n",
    "#Write 3 print statements inside the function.\n",
    "#Call the greet()function and run your code.\n",
    "\n",
    "def greet():\n",
    "    if 1==2:\n",
    "        print('1=2')\n",
    "    if 1+1==2:\n",
    "        print('1+1=2')\n",
    "    if 1==1:\n",
    "        print('1=1')\n",
    "\n",
    "greet()"
   ]
  },
  {
   "cell_type": "code",
   "execution_count": 3,
   "id": "53985973",
   "metadata": {},
   "outputs": [
    {
     "name": "stdout",
     "output_type": "stream",
     "text": [
      "Hello, AAAAA\n"
     ]
    }
   ],
   "source": [
    "#func có đối số\n",
    "def greet(name):\n",
    "    print(f'Hello, {name}')\n",
    "greet('AAAAA')"
   ]
  },
  {
   "cell_type": "code",
   "execution_count": 8,
   "id": "ddce9603",
   "metadata": {},
   "outputs": [
    {
     "name": "stdout",
     "output_type": "stream",
     "text": [
      "Hello A, you 123 years ago.\n",
      "Hello Hacker, you 10000 years ago.\n"
     ]
    }
   ],
   "source": [
    "#func có đa đối số\n",
    "def greet2(name, age):\n",
    "    print(f\"Hello {name}, you {age} years ago.\")\n",
    "greet2('A', 123)\n",
    "greet3(age = 10000, name = 'Hacker')"
   ]
  },
  {
   "cell_type": "code",
   "execution_count": 7,
   "id": "b08e1954",
   "metadata": {},
   "outputs": [
    {
     "name": "stdout",
     "output_type": "stream",
     "text": [
      "Hello Hack, you 100 years ago.\n",
      "Hello Binh, you 1000 years ago.\n"
     ]
    }
   ],
   "source": [
    "#func có default agrument\n",
    "def greet3(name = 'Hacker', age = 1000):\n",
    "    print(f\"Hello {name}, you {age} years ago.\")\n",
    "greet3('Hack',100)\n",
    "greet3('Binh')"
   ]
  },
  {
   "cell_type": "code",
   "execution_count": null,
   "id": "d2ff6ecf",
   "metadata": {},
   "outputs": [],
   "source": []
  },
  {
   "cell_type": "code",
   "execution_count": null,
   "id": "4636f5c9",
   "metadata": {},
   "outputs": [],
   "source": []
  },
  {
   "cell_type": "code",
   "execution_count": null,
   "id": "c4a2f704",
   "metadata": {},
   "outputs": [],
   "source": []
  },
  {
   "cell_type": "code",
   "execution_count": null,
   "id": "711a29a1",
   "metadata": {},
   "outputs": [],
   "source": []
  },
  {
   "cell_type": "code",
   "execution_count": null,
   "id": "b0e77923",
   "metadata": {},
   "outputs": [],
   "source": []
  },
  {
   "cell_type": "code",
   "execution_count": null,
   "id": "ab0a26ec",
   "metadata": {},
   "outputs": [],
   "source": []
  },
  {
   "cell_type": "code",
   "execution_count": null,
   "id": "4a86fc77",
   "metadata": {},
   "outputs": [],
   "source": []
  },
  {
   "cell_type": "code",
   "execution_count": null,
   "id": "2f8b759b",
   "metadata": {},
   "outputs": [],
   "source": []
  },
  {
   "cell_type": "code",
   "execution_count": null,
   "id": "19b8311d",
   "metadata": {},
   "outputs": [],
   "source": []
  }
 ],
 "metadata": {
  "kernelspec": {
   "display_name": "Python 3 (ipykernel)",
   "language": "python",
   "name": "python3"
  },
  "language_info": {
   "codemirror_mode": {
    "name": "ipython",
    "version": 3
   },
   "file_extension": ".py",
   "mimetype": "text/x-python",
   "name": "python",
   "nbconvert_exporter": "python",
   "pygments_lexer": "ipython3",
   "version": "3.8.8"
  }
 },
 "nbformat": 4,
 "nbformat_minor": 5
}
