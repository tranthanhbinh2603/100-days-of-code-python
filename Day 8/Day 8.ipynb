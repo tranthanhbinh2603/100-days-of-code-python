{
 "cells": [
  {
   "cell_type": "markdown",
   "id": "a5e406ff",
   "metadata": {},
   "source": [
    "# I. More function"
   ]
  },
  {
   "cell_type": "code",
   "execution_count": 2,
   "id": "866fab3f",
   "metadata": {},
   "outputs": [
    {
     "name": "stdout",
     "output_type": "stream",
     "text": [
      "1+1=2\n",
      "1=1\n"
     ]
    }
   ],
   "source": [
    "#Review:\n",
    "#Create a function called greet().\n",
    "#Write 3 print statements inside the function.\n",
    "#Call the greet()function and run your code.\n",
    "\n",
    "def greet():\n",
    "    if 1==2:\n",
    "        print('1=2')\n",
    "    if 1+1==2:\n",
    "        print('1+1=2')\n",
    "    if 1==1:\n",
    "        print('1=1')\n",
    "\n",
    "greet()"
   ]
  },
  {
   "cell_type": "code",
   "execution_count": 3,
   "id": "53985973",
   "metadata": {},
   "outputs": [
    {
     "name": "stdout",
     "output_type": "stream",
     "text": [
      "Hello, AAAAA\n"
     ]
    }
   ],
   "source": [
    "#func có đối số\n",
    "def greet(name):\n",
    "    print(f'Hello, {name}')\n",
    "greet('AAAAA')"
   ]
  },
  {
   "cell_type": "code",
   "execution_count": 8,
   "id": "ddce9603",
   "metadata": {},
   "outputs": [
    {
     "name": "stdout",
     "output_type": "stream",
     "text": [
      "Hello A, you 123 years ago.\n",
      "Hello Hacker, you 10000 years ago.\n"
     ]
    }
   ],
   "source": [
    "#func có đa đối số\n",
    "def greet2(name, age):\n",
    "    print(f\"Hello {name}, you {age} years ago.\")\n",
    "greet2('A', 123)\n",
    "greet3(age = 10000, name = 'Hacker')"
   ]
  },
  {
   "cell_type": "code",
   "execution_count": 7,
   "id": "b08e1954",
   "metadata": {},
   "outputs": [
    {
     "name": "stdout",
     "output_type": "stream",
     "text": [
      "Hello Hack, you 100 years ago.\n",
      "Hello Binh, you 1000 years ago.\n"
     ]
    }
   ],
   "source": [
    "#func có default agrument\n",
    "def greet3(name = 'Hacker', age = 1000):\n",
    "    print(f\"Hello {name}, you {age} years ago.\")\n",
    "greet3('Hack',100)\n",
    "greet3('Binh')"
   ]
  },
  {
   "cell_type": "markdown",
   "id": "04b51bd6",
   "metadata": {},
   "source": [
    "# II. Ex 8.1"
   ]
  },
  {
   "cell_type": "code",
   "execution_count": null,
   "id": "4636f5c9",
   "metadata": {},
   "outputs": [],
   "source": [
    "#Write your code below this line 👇\n",
    "import math\n",
    "def paint_calc(height, width, cover):\n",
    "  print(f\"You'll need {math.ceil((height * width) / cover)} cans of paint.\")\n",
    "#Write your code above this line 👆\n",
    "# Define a function called paint_calc() so that the code below works.   \n",
    "\n",
    "# 🚨 Don't change the code below 👇\n",
    "test_h = int(input(\"Height of wall: \"))\n",
    "test_w = int(input(\"Width of wall: \"))\n",
    "coverage = 5\n",
    "paint_calc(height=test_h, width=test_w, cover=coverage)"
   ]
  },
  {
   "cell_type": "markdown",
   "id": "e96c5f51",
   "metadata": {},
   "source": [
    "# III. Ex 8.2"
   ]
  },
  {
   "cell_type": "code",
   "execution_count": null,
   "id": "711a29a1",
   "metadata": {},
   "outputs": [],
   "source": [
    "#Write your code below this line 👇\n",
    "import math\n",
    "def prime_checker(number):\n",
    "  if (number <= 1):\n",
    "    print('''It's not a prime number.''')\n",
    "    return\n",
    "  for i in range(2, int(math.sqrt(number))):\n",
    "    if number % i == 0:\n",
    "      print('''It's not a prime number.''')\n",
    "      return\n",
    "  print('''It's a prime number.''')\n",
    "  return\n",
    "#Write your code above this line 👆\n",
    "    \n",
    "#Do NOT change any of the code below👇\n",
    "n = int(input(\"Check this number: \"))\n",
    "prime_checker(number=n)"
   ]
  },
  {
   "cell_type": "markdown",
   "id": "04154b9e",
   "metadata": {},
   "source": [
    "# IV. Mật mã Caesar (Caesar Cipher)"
   ]
  },
  {
   "cell_type": "markdown",
   "id": "787f2d12",
   "metadata": {},
   "source": [
    "### Đọc thêm ở đây: https://en.wikipedia.org/wiki/Caesar_cipher"
   ]
  },
  {
   "cell_type": "markdown",
   "id": "cbcb0634",
   "metadata": {},
   "source": [
    "# V. Step 1"
   ]
  },
  {
   "cell_type": "code",
   "execution_count": 24,
   "id": "2f8b759b",
   "metadata": {},
   "outputs": [
    {
     "name": "stdout",
     "output_type": "stream",
     "text": [
      "Type 'encode' to encrypt (mã hoá), type 'decode' to decrypt (giải mã):\n",
      "1\n",
      "Type your message:\n",
      "civilization\n",
      "Type the shift number:\n",
      "2\n"
     ]
    },
    {
     "ename": "IndexError",
     "evalue": "list index out of range",
     "output_type": "error",
     "traceback": [
      "\u001b[1;31m---------------------------------------------------------------------------\u001b[0m",
      "\u001b[1;31mIndexError\u001b[0m                                Traceback (most recent call last)",
      "Input \u001b[1;32mIn [24]\u001b[0m, in \u001b[0;36m<cell line: 16>\u001b[1;34m()\u001b[0m\n\u001b[0;32m     15\u001b[0m cipher_text \u001b[38;5;241m=\u001b[39m \u001b[38;5;124m\"\u001b[39m\u001b[38;5;124m\"\u001b[39m\n\u001b[0;32m     16\u001b[0m \u001b[38;5;28;01mfor\u001b[39;00m i \u001b[38;5;129;01min\u001b[39;00m \u001b[38;5;28mrange\u001b[39m(\u001b[38;5;241m0\u001b[39m, \u001b[38;5;28mlen\u001b[39m(text)):\n\u001b[1;32m---> 17\u001b[0m     cipher_text \u001b[38;5;241m+\u001b[39m\u001b[38;5;241m=\u001b[39m \u001b[43malphabet\u001b[49m\u001b[43m[\u001b[49m\u001b[43malphabet\u001b[49m\u001b[38;5;241;43m.\u001b[39;49m\u001b[43mindex\u001b[49m\u001b[43m(\u001b[49m\u001b[38;5;28;43mstr\u001b[39;49m\u001b[43m(\u001b[49m\u001b[43mtext\u001b[49m\u001b[43m[\u001b[49m\u001b[43mi\u001b[49m\u001b[43m]\u001b[49m\u001b[43m)\u001b[49m\u001b[43m)\u001b[49m\u001b[43m \u001b[49m\u001b[38;5;241;43m+\u001b[39;49m\u001b[43m \u001b[49m\u001b[43mshift\u001b[49m\u001b[43m]\u001b[49m\n\u001b[0;32m     18\u001b[0m     \u001b[38;5;66;03m##HINT: How do you get the index of an item in a list:\u001b[39;00m\n\u001b[0;32m     19\u001b[0m     \u001b[38;5;66;03m#https://stackoverflow.com/questions/176918/finding-the-index-of-an-item-in-a-list\u001b[39;00m\n\u001b[0;32m     20\u001b[0m \n\u001b[0;32m     21\u001b[0m     \u001b[38;5;66;03m##🐛Bug alert: What happens if you try to encode the word 'civilization'?🐛\u001b[39;00m\n\u001b[0;32m     22\u001b[0m \n\u001b[0;32m     23\u001b[0m \u001b[38;5;66;03m#TODO-3: Call the encrypt function and pass in the user inputs. You should be able to test the code and encrypt a message. \u001b[39;00m\n\u001b[0;32m     24\u001b[0m \u001b[38;5;28mprint\u001b[39m(cipher_text)\n",
      "\u001b[1;31mIndexError\u001b[0m: list index out of range"
     ]
    }
   ],
   "source": [
    "alphabet = ['a', 'b', 'c', 'd', 'e', 'f', 'g', 'h', 'i', 'j', 'k', 'l', 'm', 'n', 'o', 'p', 'q', 'r', 's', 't', 'u', 'v', 'w', 'x', 'y', 'z']\n",
    "\n",
    "direction = input(\"Type 'encode' to encrypt (mã hoá), type 'decode' to decrypt (giải mã):\\n\")\n",
    "text = input(\"Type your message:\\n\").lower()\n",
    "shift = int(input(\"Type the shift number:\\n\"))\n",
    "\n",
    "#TODO-1: Create a function called 'encrypt' that takes the 'text' and 'shift' as inputs.\n",
    "\n",
    "    #TODO-2: Inside the 'encrypt' function, shift each letter of the 'text' forwards in the alphabet by the shift amount and print the encrypted text.  \n",
    "    #e.g. \n",
    "    #plain_text = \"hello\"\n",
    "    #shift = 5\n",
    "    # cipher_text = \"mjqqt\"\n",
    "    #print output: \"The encoded text is mjqqt\"\n",
    "cipher_text = \"\"\n",
    "for i in range(0, len(text)):\n",
    "    cipher_text += alphabet[alphabet.index(str(text[i])) + shift]\n",
    "    ##HINT: How do you get the index of an item in a list:\n",
    "    #https://stackoverflow.com/questions/176918/finding-the-index-of-an-item-in-a-list\n",
    "\n",
    "    ##🐛Bug alert: What happens if you try to encode the word 'civilization'?🐛 - Out of range\n",
    "\n",
    "#TODO-3: Call the encrypt function and pass in the user inputs. You should be able to test the code and encrypt a message. \n",
    "print(cipher_text)"
   ]
  },
  {
   "cell_type": "markdown",
   "id": "0fb1ab7f",
   "metadata": {},
   "source": [
    "# VI. Step 2"
   ]
  },
  {
   "cell_type": "code",
   "execution_count": 29,
   "id": "4a4e16fc",
   "metadata": {},
   "outputs": [
    {
     "name": "stdout",
     "output_type": "stream",
     "text": [
      "Type 'encode' to encrypt, type 'decode' to decrypt:\n",
      "decode\n",
      "Type your message:\n",
      "mjqqt\n",
      "Type the shift number:\n",
      "5\n",
      "The decode text is hello\n"
     ]
    }
   ],
   "source": [
    "alphabet = ['a', 'b', 'c', 'd', 'e', 'f', 'g', 'h', 'i', 'j', 'k', 'l', 'm', 'n', 'o', 'p', 'q', 'r', 's', 't', 'u', 'v', 'w', 'x', 'y', 'z', 'a', 'b', 'c', 'd', 'e', 'f', 'g', 'h', 'i', 'j', 'k', 'l', 'm', 'n', 'o', 'p', 'q', 'r', 's', 't', 'u', 'v', 'w', 'x', 'y', 'z']\n",
    "\n",
    "direction = input(\"Type 'encode' to encrypt, type 'decode' to decrypt:\\n\")\n",
    "text = input(\"Type your message:\\n\").lower()\n",
    "shift = int(input(\"Type the shift number:\\n\"))\n",
    "\n",
    "def encrypt(plain_text, shift_amount):\n",
    "  cipher_text = \"\"\n",
    "  for letter in plain_text:\n",
    "    position = alphabet.index(letter)\n",
    "    new_position = position + shift_amount\n",
    "    cipher_text += alphabet[new_position]\n",
    "  print(f\"The encoded text is {cipher_text}\")\n",
    "\n",
    "#TODO-1: Create a different function called 'decrypt' that takes the 'text' and 'shift' as inputs.\n",
    "def decrypt(text, shift):    \n",
    "  #TODO-2: Inside the 'decrypt' function, shift each letter of the 'text' *backwards* in the alphabet by the shift amount and print the decrypted text.  \n",
    "  #e.g. \n",
    "  #cipher_text = \"mjqqt\"\n",
    "  #shift = 5\n",
    "  #plain_text = \"hello\"\n",
    "  #print output: \"The decoded text is hello\"\n",
    "    plain_text = \"\"\n",
    "    for letter in text:\n",
    "        position = alphabet.index(letter)\n",
    "        new_position = position - shift\n",
    "        plain_text += alphabet[new_position]\n",
    "    print(f\"The decode text is {plain_text}\")\n",
    "\n",
    "#TODO-3: Check if the user wanted to encrypt or decrypt the message by checking the 'direction' variable. Then call the correct function based on that 'drection' variable. You should be able to test the code to encrypt *AND* decrypt a message.\n",
    "decrypt(text=text, shift=shift)"
   ]
  },
  {
   "cell_type": "markdown",
   "id": "13a26f91",
   "metadata": {},
   "source": [
    "# VII. Step 3"
   ]
  },
  {
   "cell_type": "code",
   "execution_count": 37,
   "id": "ab633ba1",
   "metadata": {},
   "outputs": [
    {
     "name": "stdout",
     "output_type": "stream",
     "text": [
      "Type 'encode' to encrypt, type 'decode' to decrypt:\n",
      "decode\n",
      "Type your message:\n",
      "mjqqt\n",
      "Type the shift number:\n",
      "5\n",
      "The decoded text is hello\n"
     ]
    }
   ],
   "source": [
    "alphabet = ['a', 'b', 'c', 'd', 'e', 'f', 'g', 'h', 'i', 'j', 'k', 'l', 'm', 'n', 'o', 'p', 'q', 'r', 's', 't', 'u', 'v', 'w', 'x', 'y', 'z', 'a', 'b', 'c', 'd', 'e', 'f', 'g', 'h', 'i', 'j', 'k', 'l', 'm', 'n', 'o', 'p', 'q', 'r', 's', 't', 'u', 'v', 'w', 'x', 'y', 'z']\n",
    "\n",
    "direction = input(\"Type 'encode' to encrypt, type 'decode' to decrypt:\\n\")\n",
    "text = input(\"Type your message:\\n\").lower()\n",
    "shift = int(input(\"Type the shift number:\\n\"))\n",
    "\n",
    "#TODO-1: Combine the encrypt() and decrypt() functions into a single function called caesar(). \n",
    "\n",
    "def caesar(text, shift, direction):\n",
    "    cipher_text = \"\"\n",
    "    plain_text = \"\"\n",
    "    if direction == \"encode\":      \n",
    "        for letter in text:\n",
    "            position = alphabet.index(letter)\n",
    "            new_position = position + shift\n",
    "            cipher_text += alphabet[new_position]\n",
    "        print(f\"The encoded text is {cipher_text}\")\n",
    "    elif direction == \"decode\":      \n",
    "        for letter in text:\n",
    "            position = alphabet.index(letter)\n",
    "            new_position = position - shift\n",
    "            plain_text += alphabet[new_position]\n",
    "        print(f\"The decoded text is {plain_text}\")\n",
    "#TODO-2: Call the caesar() function, passing over the 'text', 'shift' and 'direction' values.\n",
    "caesar(text, shift, direction)"
   ]
  },
  {
   "cell_type": "markdown",
   "id": "f1282df1",
   "metadata": {},
   "source": [
    "# VIII. Part 4"
   ]
  },
  {
   "cell_type": "code",
   "execution_count": 58,
   "id": "600da807",
   "metadata": {},
   "outputs": [
    {
     "name": "stdout",
     "output_type": "stream",
     "text": [
      "           \n",
      " ,adPPYba, ,adPPYYba,  ,adPPYba, ,adPPYba, ,adPPYYba, 8b,dPPYba,  \n",
      "a8\"     \"\" \"\"     `Y8 a8P_____88 I8[    \"\" \"\"     `Y8 88P'   \"Y8  \n",
      "8b         ,adPPPPP88 8PP\"  `\"Y8ba,  ,adPPPPP88 88          \n",
      "\"8a,   ,aa 88,    ,88 \"8b,   ,aa aa    ]8I 88,    ,88 88          \n",
      " `\"Ybbd8\"' `\"8bbdP\"Y8  `\"Ybbd8\"' `\"YbbdP\"' `\"8bbdP\"Y8 88   \n",
      "            88             88                                 \n",
      "           \"\"             88                                 \n",
      "                          88                                 \n",
      " ,adPPYba, 88 8b,dPPYba,  88,dPPYba,   ,adPPYba, 8b,dPPYba,  \n",
      "a8\"     \"\" 88 88P'    \"8a 88P'    \"8a a8P_____88 88P'   \"Y8  \n",
      "8b         88 88       d8 88       88 8PP\" 88          \n",
      "\"8a,   ,aa 88 88b,   ,a8\" 88       88 \"8b,   ,aa 88          \n",
      " `\"Ybbd8\"' 88 88`YbbdP\"'  88       88  `\"Ybbd8\"' 88          \n",
      "              88                                             \n",
      "              88           \n",
      "\n",
      "Type 'encode' to encrypt, type 'decode' to decrypt:\n",
      "encode\n",
      "Type your message:\n",
      "abc\n",
      "Type the shift number:\n",
      "3\n",
      "Here's the encoded result: def\n",
      "Type 'yes' if you want to go again. Otherwise type 'no'.no\n",
      "Type 'encode' to encrypt, type 'decode' to decrypt:\n",
      "decode\n",
      "Type your message:\n",
      "def\n",
      "Type the shift number:\n",
      "3\n",
      "Here's the decoded result: abc\n",
      "Type 'yes' if you want to go again. Otherwise type 'no'.yes\n"
     ]
    }
   ],
   "source": [
    "alphabet = ['a', 'b', 'c', 'd', 'e', 'f', 'g', 'h', 'i', 'j', 'k', 'l', 'm', 'n', 'o', 'p', 'q', 'r', 's', 't', 'u', 'v', 'w', 'x', 'y', 'z', ' ']\n",
    "\n",
    "def caesar(start_text, shift_amount, cipher_direction):\n",
    "  end_text = \"\"\n",
    "  if cipher_direction == \"decode\":\n",
    "    shift_amount *= -1\n",
    "  for char in start_text:\n",
    "    #TODO-3: What happens if the user enters a number/symbol/space?\n",
    "    #Can you fix the code to keep the number/symbol/space when the text is encoded/decoded?\n",
    "    #e.g. start_text = \"meet me at 3\"\n",
    "    #end_text = \"•••• •• •• 3\"\n",
    "    position = alphabet.index(char)\n",
    "    if (int(position) != 26):\n",
    "        new_position = position + shift_amount\n",
    "        end_text += alphabet[new_position]\n",
    "    else:\n",
    "        end_text += ' '\n",
    "    \n",
    "  print(f\"Here's the {cipher_direction}d result: {end_text}\")\n",
    "\n",
    "#TODO-1: Import and print the logo from art.py when the program starts.\n",
    "from art import logo\n",
    "print(logo)\n",
    "#TODO-4: Can you figure out a way to ask the user if they want to restart the cipher program?\n",
    "#e.g. Type 'yes' if you want to go again. Otherwise type 'no'.\n",
    "#If they type 'yes' then ask them for the direction/text/shift again and call the caesar() function again?\n",
    "#Hint: Try creating a while loop that continues to execute the program if the user types 'yes'. \n",
    "while (True):\n",
    "\n",
    "    direction = input(\"Type 'encode' to encrypt, type 'decode' to decrypt:\\n\")\n",
    "    text = input(\"Type your message:\\n\").lower()\n",
    "    shift = int(input(\"Type the shift number:\\n\"))\n",
    "\n",
    "    #TODO-2: What if the user enters a shift that is greater than the number of letters in the alphabet?\n",
    "    #Try running the program and entering a shift number of 45.\n",
    "    #Add some code so that the program continues to work even if the user enters a shift number greater than 26. \n",
    "    #Hint: Think about how you can use the modulus (%).\n",
    "\n",
    "    caesar(start_text=text, shift_amount=shift % 26, cipher_direction=direction)\n",
    "    \n",
    "    is_conti = str(input('''Type 'yes' if you want to go again. Otherwise type 'no'.''')).upper()\n",
    "    if (is_conti == \"YES\"):\n",
    "        break"
   ]
  }
 ],
 "metadata": {
  "kernelspec": {
   "display_name": "Python 3 (ipykernel)",
   "language": "python",
   "name": "python3"
  },
  "language_info": {
   "codemirror_mode": {
    "name": "ipython",
    "version": 3
   },
   "file_extension": ".py",
   "mimetype": "text/x-python",
   "name": "python",
   "nbconvert_exporter": "python",
   "pygments_lexer": "ipython3",
   "version": "3.8.8"
  }
 },
 "nbformat": 4,
 "nbformat_minor": 5
}
