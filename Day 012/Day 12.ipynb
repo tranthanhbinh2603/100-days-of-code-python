{
 "cells": [
  {
   "cell_type": "markdown",
   "id": "8938bce3",
   "metadata": {},
   "source": [
    "# I. Namespaces & Scope"
   ]
  },
  {
   "cell_type": "markdown",
   "id": "7df7ad70",
   "metadata": {},
   "source": [
    "#### Scope thực chất là giới hạn của biến"
   ]
  },
  {
   "cell_type": "code",
   "execution_count": 1,
   "id": "485c67d3",
   "metadata": {},
   "outputs": [
    {
     "name": "stdout",
     "output_type": "stream",
     "text": [
      "300\n"
     ]
    }
   ],
   "source": [
    "def myfunc():\n",
    "  x = 300\n",
    "  print(x)\n",
    "\n",
    "myfunc()"
   ]
  },
  {
   "cell_type": "code",
   "execution_count": 2,
   "id": "cb96ee98",
   "metadata": {},
   "outputs": [
    {
     "name": "stdout",
     "output_type": "stream",
     "text": [
      "300\n"
     ]
    }
   ],
   "source": [
    "def myfunc(): #Hàm trở thành namespace\n",
    "  x = 300\n",
    "  def myinnerfunc(): #Hàm bên trong hàm\n",
    "    print(x)\n",
    "  myinnerfunc() \n",
    "\n",
    "myfunc()"
   ]
  },
  {
   "cell_type": "code",
   "execution_count": 3,
   "id": "d5ec0fa6",
   "metadata": {},
   "outputs": [
    {
     "name": "stdout",
     "output_type": "stream",
     "text": [
      "300\n",
      "300\n"
     ]
    }
   ],
   "source": [
    "x = 300\n",
    "\n",
    "def myfunc():\n",
    "  print(x)\n",
    "\n",
    "myfunc()\n",
    "\n",
    "print(x)"
   ]
  },
  {
   "cell_type": "code",
   "execution_count": 5,
   "id": "df1ee53c",
   "metadata": {},
   "outputs": [
    {
     "name": "stdout",
     "output_type": "stream",
     "text": [
      "301\n"
     ]
    }
   ],
   "source": [
    "x = 300\n",
    "def myfunc():\n",
    "    global x #Dùng x bên ngoài\n",
    "    x+=1\n",
    "    print(x)\n",
    "    \n",
    "myfunc()"
   ]
  },
  {
   "cell_type": "markdown",
   "id": "de2bf4c2",
   "metadata": {},
   "source": [
    "# II. Project của ngày"
   ]
  },
  {
   "cell_type": "code",
   "execution_count": 21,
   "id": "cc0a59fd",
   "metadata": {},
   "outputs": [
    {
     "name": "stdout",
     "output_type": "stream",
     "text": [
      "\n",
      "  /$$$$$$  /$$   /$$ /$$$$$$$$  /$$$$$$   /$$$$$$        /$$   /$$ /$$   /$$ /$$      /$$ /$$$$$$$  /$$$$$$$$ /$$$$$$$ \n",
      " /$$__  $$| $$  | $$| $$_____/ /$$__  $$ /$$__  $$      | $$$ | $$| $$  | $$| $$$    /$$$| $$__  $$| $$_____/| $$__  $$\n",
      "| $$  \\__/| $$  | $$| $$      | $$  \\__/| $$  \\__/      | $$$$| $$| $$  | $$| $$$$  /$$$$| $$  \\ $$| $$      | $$  \\ $$\n",
      "| $$ /$$$$| $$  | $$| $$$$$   |  $$$$$$ |  $$$$$$       | $$ $$ $$| $$  | $$| $$ $$/$$ $$| $$$$$$$ | $$$$$   | $$$$$$$/\n",
      "| $$|_  $$| $$  | $$| $$__/    \\____  $$ \\____  $$      | $$  $$$$| $$  | $$| $$  $$$| $$| $$__  $$| $$__/   | $$__  $$\n",
      "| $$  \\ $$| $$  | $$| $$       /$$  \\ $$ /$$  \\ $$      | $$\\  $$$| $$  | $$| $$\\  $ | $$| $$  \\ $$| $$      | $$  \\ $$\n",
      "|  $$$$$$/|  $$$$$$/| $$$$$$$$|  $$$$$$/|  $$$$$$/      | $$ \\  $$|  $$$$$$/| $$ \\/  | $$| $$$$$$$/| $$$$$$$$| $$  | $$\n",
      " \\______/  \\______/ |________/ \\______/  \\______/       |__/  \\__/ \\______/ |__/     |__/|_______/ |________/|__/  |__/\n",
      "\n",
      "\n",
      "Welcome to the Number Guessing Game!\n",
      "I'm thinking of a number between 1 and 100.\n",
      "Choose a difficulty . Type \"easy' or \"hard':easy\n",
      "You have 10 attempts remaining to guess the number.\n",
      "Make a guess: 50\n",
      "Too low.\n",
      "You have 9 attempts remaining to guess the number.\n",
      "Make a guess: 75\n",
      "Too low.\n",
      "You have 8 attempts remaining to guess the number.\n",
      "Make a guess: 87\n",
      "Too low.\n",
      "You have 7 attempts remaining to guess the number.\n",
      "Make a guess: 65\n",
      "Too low.\n",
      "You have 6 attempts remaining to guess the number.\n",
      "Make a guess: 95\n",
      "Too high.\n",
      "You have 5 attempts remaining to guess the number.\n",
      "Make a guess: 94\n",
      "Too high.\n",
      "You have 4 attempts remaining to guess the number.\n",
      "Make a guess: 93\n",
      "You got it! The answer was 93.\n",
      "Guess again.\n"
     ]
    }
   ],
   "source": [
    "from art import logo\n",
    "import random\n",
    "print(logo)\n",
    "\n",
    "def play(attempt):\n",
    "    correct = random.randint(1, 100)\n",
    "    while (attempt > 0):\n",
    "        print(F'You have {attempt} attempts remaining to guess the number.')  \n",
    "        guess = int(input('Make a guess: '));\n",
    "        if  guess> correct:\n",
    "            print('Too high.')\n",
    "        elif guess < correct:\n",
    "            print('Too low.')\n",
    "        elif guess == correct:\n",
    "            print(f'''You got it! The answer was {correct}.\n",
    "Guess again.''')\n",
    "            break\n",
    "        attempt -= 1\n",
    "    if attempt == 0:\n",
    "        print(\"You've run out of guesses, you lose.\")\n",
    "\n",
    "if str(input('''\n",
    "Welcome to the Number Guessing Game!\n",
    "I'm thinking of a number between 1 and 100.\n",
    "Choose a difficulty . Type \"easy' or \"hard':''')).upper() == \"EASY\":\n",
    "    play(10)\n",
    "else:\n",
    "    play(5)"
   ]
  }
 ],
 "metadata": {
  "kernelspec": {
   "display_name": "Python 3 (ipykernel)",
   "language": "python",
   "name": "python3"
  },
  "language_info": {
   "codemirror_mode": {
    "name": "ipython",
    "version": 3
   },
   "file_extension": ".py",
   "mimetype": "text/x-python",
   "name": "python",
   "nbconvert_exporter": "python",
   "pygments_lexer": "ipython3",
   "version": "3.8.8"
  }
 },
 "nbformat": 4,
 "nbformat_minor": 5
}
