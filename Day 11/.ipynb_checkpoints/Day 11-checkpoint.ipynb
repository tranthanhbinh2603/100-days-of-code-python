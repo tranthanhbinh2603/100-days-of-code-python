{
 "cells": [
  {
   "cell_type": "markdown",
   "id": "18d353ed",
   "metadata": {},
   "source": [
    "# I. HINT"
   ]
  },
  {
   "cell_type": "code",
   "execution_count": null,
   "id": "0a6e3bf6",
   "metadata": {},
   "outputs": [],
   "source": [
    "############### Blackjack Project #####################\n",
    "\n",
    "#Difficulty Normal 😎: Use all Hints below to complete the project.\n",
    "#Difficulty Hard 🤔: Use only Hints 1, 2, 3 to complete the project.\n",
    "#Difficulty Extra Hard 😭: Only use Hints 1 & 2 to complete the project.\n",
    "#Difficulty Expert 🤯: Only use Hint 1 to complete the project.\n",
    "\n",
    "############### Our Blackjack House Rules #####################\n",
    "\n",
    "## The deck is unlimited in size. \n",
    "## There are no jokers. \n",
    "## The Jack/Queen/King all count as 10.\n",
    "## The the Ace can count as 11 or 1.\n",
    "## Use the following list as the deck of cards:\n",
    "## cards = [11, 2, 3, 4, 5, 6, 7, 8, 9, 10, 10, 10, 10]\n",
    "## The cards in the list have equal probability of being drawn.\n",
    "## Cards are not removed from the deck as they are drawn.\n",
    "## The computer is the dealer.\n",
    "\n",
    "##################### Hints #####################\n",
    "\n",
    "#Hint 1: Go to this website and try out the Blackjack game: \n",
    "#   https://games.washingtonpost.com/games/blackjack/\n",
    "#Then try out the completed Blackjack project here: \n",
    "#   http://blackjack-final.appbrewery.repl.run\n",
    "\n",
    "#Hint 2: Read this breakdown of program requirements: \n",
    "#   http://listmoz.com/view/6h34DJpvJBFVRlZfJvxF\n",
    "#Then try to create your own flowchart for the program.\n",
    "\n",
    "#Hint 3: Download and read this flow chart I've created: \n",
    "#   https://drive.google.com/uc?export=download&id=1rDkiHCrhaf9eX7u7yjM1qwSuyEk-rPnt\n",
    "\n",
    "#Hint 4: Create a deal_card() function that uses the List below to *return* a random card.\n",
    "#11 is the Ace.\n",
    "#cards = [11, 2, 3, 4, 5, 6, 7, 8, 9, 10, 10, 10, 10]\n",
    "\n",
    "#Hint 5: Deal the user and computer 2 cards each using deal_card() and append().\n",
    "#user_cards = []\n",
    "#computer_cards = []\n",
    "\n",
    "#Hint 6: Create a function called calculate_score() that takes a List of cards as input \n",
    "#and returns the score. \n",
    "#Look up the sum() function to help you do this.\n",
    "\n",
    "#Hint 7: Inside calculate_score() check for a blackjack (a hand with only 2 cards: ace + 10) and return 0 instead of the actual score. 0 will represent a blackjack in our game.\n",
    "\n",
    "#Hint 8: Inside calculate_score() check for an 11 (ace). If the score is already over 21, remove the 11 and replace it with a 1. You might need to look up append() and remove().\n",
    "\n",
    "#Hint 9: Call calculate_score(). If the computer or the user has a blackjack (0) or if the user's score is over 21, then the game ends.\n",
    "\n",
    "#Hint 10: If the game has not ended, ask the user if they want to draw another card. If yes, then use the deal_card() function to add another card to the user_cards List. If no, then the game has ended.\n",
    "\n",
    "#Hint 11: The score will need to be rechecked with every new card drawn and the checks in Hint 9 need to be repeated until the game ends.\n",
    "\n",
    "#Hint 12: Once the user is done, it's time to let the computer play. The computer should keep drawing cards as long as it has a score less than 17.\n",
    "\n",
    "#Hint 13: Create a function called compare() and pass in the user_score and computer_score. If the computer and user both have the same score, then it's a draw. If the computer has a blackjack (0), then the user loses. If the user has a blackjack (0), then the user wins. If the user_score is over 21, then the user loses. If the computer_score is over 21, then the computer loses. If none of the above, then the player with the highest score wins.\n",
    "\n",
    "#Hint 14: Ask the user if they want to restart the game. If they answer yes, clear the console and start a new game of blackjack and show the logo from art.py.\n",
    "\n"
   ]
  },
  {
   "cell_type": "markdown",
   "id": "4971febe",
   "metadata": {},
   "source": [
    "# II. Project days 11"
   ]
  },
  {
   "cell_type": "code",
   "execution_count": 10,
   "id": "3f50edd0",
   "metadata": {},
   "outputs": [
    {
     "name": "stdout",
     "output_type": "stream",
     "text": [
      "Do you want to play a game of Blackjack? Type 'y' or 'n': y\n",
      "\n",
      ".------.            _     _            _    _            _    \n",
      "|A_  _ |.          | |   | |          | |  (_)          | |   \n",
      "|( \\/ ).-----.     | |__ | | __ _  ___| | ___  __ _  ___| | __\n",
      "| \\  /|K /\\  |     | '_ \\| |/ _` |/ __| |/ / |/ _` |/ __| |/ /\n",
      "|  \\/ | /  \\ |     | |_) | | (_| | (__|   <| | (_| | (__|   < \n",
      "`-----| \\  / |     |_.__/|_|\\__,_|\\___|_|\\_\\ |\\__,_|\\___|_|\\_\\\n",
      "      |  \\/ K|                            _/ |                \n",
      "      `------'                           |__/           \n",
      "\n"
     ]
    },
    {
     "ename": "UnboundLocalError",
     "evalue": "local variable 'isContinue' referenced before assignment",
     "output_type": "error",
     "traceback": [
      "\u001b[1;31m---------------------------------------------------------------------------\u001b[0m",
      "\u001b[1;31mUnboundLocalError\u001b[0m                         Traceback (most recent call last)",
      "Input \u001b[1;32mIn [10]\u001b[0m, in \u001b[0;36m<cell line: 16>\u001b[1;34m()\u001b[0m\n\u001b[0;32m     13\u001b[0m     \u001b[38;5;28;01mif\u001b[39;00m isContinue \u001b[38;5;241m==\u001b[39m \u001b[38;5;28;01mTrue\u001b[39;00m:\n\u001b[0;32m     14\u001b[0m         blackjack()\n\u001b[1;32m---> 16\u001b[0m \u001b[43mblackjack\u001b[49m\u001b[43m(\u001b[49m\u001b[43m)\u001b[49m\n",
      "Input \u001b[1;32mIn [10]\u001b[0m, in \u001b[0;36mblackjack\u001b[1;34m()\u001b[0m\n\u001b[0;32m     10\u001b[0m \u001b[38;5;28;01melse\u001b[39;00m:\n\u001b[0;32m     11\u001b[0m     \u001b[38;5;28mprint\u001b[39m(logo)\n\u001b[1;32m---> 13\u001b[0m \u001b[38;5;28;01mif\u001b[39;00m \u001b[43misContinue\u001b[49m \u001b[38;5;241m==\u001b[39m \u001b[38;5;28;01mTrue\u001b[39;00m:\n\u001b[0;32m     14\u001b[0m     blackjack()\n",
      "\u001b[1;31mUnboundLocalError\u001b[0m: local variable 'isContinue' referenced before assignment"
     ]
    }
   ],
   "source": [
    "from art import logo\n",
    "\n",
    "cards = [11, 2, 3, 4, 5, 6, 7, 8, 9, 10, 10, 10, 10]\n",
    "\n",
    "isContinue = True\n",
    "\n",
    "def blackjack():\n",
    "    if str(input(\"Do you want to play a game of Blackjack? Type 'y' or 'n': \")).lower() == \"n\":\n",
    "        isContinue = False\n",
    "    else:\n",
    "        print(logo)\n",
    "        \n",
    "    if isContinue == True:\n",
    "        blackjack()\n",
    "        \n",
    "blackjack()"
   ]
  },
  {
   "cell_type": "code",
   "execution_count": null,
   "id": "d23ba9bd",
   "metadata": {},
   "outputs": [],
   "source": []
  },
  {
   "cell_type": "code",
   "execution_count": null,
   "id": "7f9a19ca",
   "metadata": {},
   "outputs": [],
   "source": []
  },
  {
   "cell_type": "code",
   "execution_count": null,
   "id": "30ab9356",
   "metadata": {},
   "outputs": [],
   "source": []
  },
  {
   "cell_type": "code",
   "execution_count": null,
   "id": "8477c52d",
   "metadata": {},
   "outputs": [],
   "source": []
  },
  {
   "cell_type": "code",
   "execution_count": null,
   "id": "0624cd45",
   "metadata": {},
   "outputs": [],
   "source": []
  },
  {
   "cell_type": "code",
   "execution_count": null,
   "id": "628d46cb",
   "metadata": {},
   "outputs": [],
   "source": []
  },
  {
   "cell_type": "code",
   "execution_count": null,
   "id": "94d6dd5b",
   "metadata": {},
   "outputs": [],
   "source": []
  }
 ],
 "metadata": {
  "kernelspec": {
   "display_name": "Python 3 (ipykernel)",
   "language": "python",
   "name": "python3"
  },
  "language_info": {
   "codemirror_mode": {
    "name": "ipython",
    "version": 3
   },
   "file_extension": ".py",
   "mimetype": "text/x-python",
   "name": "python",
   "nbconvert_exporter": "python",
   "pygments_lexer": "ipython3",
   "version": "3.8.8"
  }
 },
 "nbformat": 4,
 "nbformat_minor": 5
}
