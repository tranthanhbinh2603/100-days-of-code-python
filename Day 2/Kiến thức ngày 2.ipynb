{
 "cells": [
  {
   "cell_type": "markdown",
   "id": "e913dc4a",
   "metadata": {},
   "source": [
    "# I. Loại dữ liệu"
   ]
  },
  {
   "cell_type": "code",
   "execution_count": 1,
   "id": "97d778ac",
   "metadata": {},
   "outputs": [
    {
     "data": {
      "text/plain": [
       "6"
      ]
     },
     "execution_count": 1,
     "metadata": {},
     "output_type": "execute_result"
    }
   ],
   "source": [
    "# Ngày 1 ta đã được học cái này\n",
    "print(len('Hello!'))"
   ]
  },
  {
   "cell_type": "code",
   "execution_count": 2,
   "id": "aff1ec6a",
   "metadata": {},
   "outputs": [
    {
     "ename": "TypeError",
     "evalue": "object of type 'int' has no len()",
     "output_type": "error",
     "traceback": [
      "\u001b[1;31m---------------------------------------------------------------------------\u001b[0m",
      "\u001b[1;31mTypeError\u001b[0m                                 Traceback (most recent call last)",
      "Input \u001b[1;32mIn [2]\u001b[0m, in \u001b[0;36m<cell line: 2>\u001b[1;34m()\u001b[0m\n\u001b[0;32m      1\u001b[0m \u001b[38;5;66;03m#Song nếu thay bằng số thì sẽ có điều xảy ra\u001b[39;00m\n\u001b[1;32m----> 2\u001b[0m \u001b[38;5;28mprint\u001b[39m(\u001b[38;5;28;43mlen\u001b[39;49m\u001b[43m(\u001b[49m\u001b[38;5;241;43m636363636636\u001b[39;49m\u001b[43m)\u001b[49m)\n",
      "\u001b[1;31mTypeError\u001b[0m: object of type 'int' has no len()"
     ]
    }
   ],
   "source": [
    "# Song nếu thay bằng số thì sẽ có điều xảy ra\n",
    "print(len(636363636636))"
   ]
  },
  {
   "cell_type": "code",
   "execution_count": 4,
   "id": "68fd73bc",
   "metadata": {},
   "outputs": [
    {
     "name": "stdout",
     "output_type": "stream",
     "text": [
      "H\n",
      "e\n"
     ]
    }
   ],
   "source": [
    "# Thực tế string là 1 mảng. Chứng minh:\n",
    "print(\"Hello\"[0])\n",
    "print(\"Hello\"[1])"
   ]
  },
  {
   "cell_type": "code",
   "execution_count": 6,
   "id": "ffd9b74c",
   "metadata": {},
   "outputs": [
    {
     "ename": "IndexError",
     "evalue": "string index out of range",
     "output_type": "error",
     "traceback": [
      "\u001b[1;31m---------------------------------------------------------------------------\u001b[0m",
      "\u001b[1;31mIndexError\u001b[0m                                Traceback (most recent call last)",
      "Input \u001b[1;32mIn [6]\u001b[0m, in \u001b[0;36m<cell line: 2>\u001b[1;34m()\u001b[0m\n\u001b[0;32m      1\u001b[0m \u001b[38;5;66;03m# Bổ sung: Nhưng vẫn sẽ có thể tràn mảng (string index out of range)\u001b[39;00m\n\u001b[1;32m----> 2\u001b[0m \u001b[38;5;28mprint\u001b[39m(\u001b[38;5;124;43m\"\u001b[39;49m\u001b[38;5;124;43mHello\u001b[39;49m\u001b[38;5;124;43m\"\u001b[39;49m\u001b[43m[\u001b[49m\u001b[38;5;241;43m5\u001b[39;49m\u001b[43m]\u001b[49m)\n",
      "\u001b[1;31mIndexError\u001b[0m: string index out of range"
     ]
    }
   ],
   "source": [
    "# Bổ sung: Nhưng vẫn sẽ có thể tràn mảng (string index out of range)\n",
    "print(\"Hello\"[5])"
   ]
  },
  {
   "cell_type": "code",
   "execution_count": 7,
   "id": "b18ab1ee",
   "metadata": {},
   "outputs": [
    {
     "name": "stdout",
     "output_type": "stream",
     "text": [
      "123345\n"
     ]
    }
   ],
   "source": [
    "#Cộng 2 chuỗi\n",
    "print(\"123\" + \"345\")"
   ]
  },
  {
   "cell_type": "code",
   "execution_count": 8,
   "id": "64792b89",
   "metadata": {},
   "outputs": [
    {
     "name": "stdout",
     "output_type": "stream",
     "text": [
      "468\n"
     ]
    }
   ],
   "source": [
    "#Có nhiều kiểu dữ liệu\n",
    "#Loại 1: Integer\n",
    "print(123+345)"
   ]
  },
  {
   "cell_type": "code",
   "execution_count": null,
   "id": "1fea416c",
   "metadata": {},
   "outputs": [],
   "source": [
    "#Số nguyên lớn: 123,456,789. Viết trong py là 123456789"
   ]
  },
  {
   "cell_type": "code",
   "execution_count": 9,
   "id": "6007a738",
   "metadata": {},
   "outputs": [
    {
     "name": "stdout",
     "output_type": "stream",
     "text": [
      "3.123456\n"
     ]
    }
   ],
   "source": [
    "#Loại 2: float\n",
    "print(3.123456)"
   ]
  },
  {
   "cell_type": "code",
   "execution_count": 10,
   "id": "84617c0b",
   "metadata": {},
   "outputs": [
    {
     "name": "stdout",
     "output_type": "stream",
     "text": [
      "False\n"
     ]
    }
   ],
   "source": [
    "#Loại 3: Boolean\n",
    "print(False)"
   ]
  },
  {
   "cell_type": "code",
   "execution_count": null,
   "id": "3a69829b",
   "metadata": {},
   "outputs": [],
   "source": [
    "#Loại 4: String - Quá quen rồi."
   ]
  },
  {
   "cell_type": "markdown",
   "id": "a865d934",
   "metadata": {},
   "source": [
    "# 2. Type error, checking and convert"
   ]
  },
  {
   "cell_type": "code",
   "execution_count": null,
   "id": "ce2b2029",
   "metadata": {},
   "outputs": [],
   "source": [
    "#Bạn có thể trình biên dịch biến 1 miếng khoai tây thành khoai tây chiên =)\n",
    "#Nhưng mà bạn bỏ một cục đá vào mà bạn chơi thì.... lỗi.\n",
    "#Đó chính là type error"
   ]
  },
  {
   "cell_type": "code",
   "execution_count": null,
   "id": "e091cc5e",
   "metadata": {},
   "outputs": [],
   "source": [
    "#Ở trên là 1 lỗi."
   ]
  },
  {
   "cell_type": "code",
   "execution_count": 12,
   "id": "6c8932ef",
   "metadata": {},
   "outputs": [
    {
     "name": "stdout",
     "output_type": "stream",
     "text": [
      "What is your name? Binh\n"
     ]
    },
    {
     "ename": "TypeError",
     "evalue": "can only concatenate str (not \"int\") to str",
     "output_type": "error",
     "traceback": [
      "\u001b[1;31m---------------------------------------------------------------------------\u001b[0m",
      "\u001b[1;31mTypeError\u001b[0m                                 Traceback (most recent call last)",
      "Input \u001b[1;32mIn [12]\u001b[0m, in \u001b[0;36m<cell line: 3>\u001b[1;34m()\u001b[0m\n\u001b[0;32m      1\u001b[0m \u001b[38;5;66;03m#Ta xét 1 trường hợp nữa.\u001b[39;00m\n\u001b[0;32m      2\u001b[0m num_char \u001b[38;5;241m=\u001b[39m \u001b[38;5;28mlen\u001b[39m(\u001b[38;5;28minput\u001b[39m(\u001b[38;5;124m\"\u001b[39m\u001b[38;5;124mWhat is your name? \u001b[39m\u001b[38;5;124m\"\u001b[39m))\n\u001b[1;32m----> 3\u001b[0m \u001b[38;5;28mprint\u001b[39m (\u001b[38;5;124;43m\"\u001b[39;49m\u001b[38;5;124;43mYour name has \u001b[39;49m\u001b[38;5;124;43m\"\u001b[39;49m\u001b[43m \u001b[49m\u001b[38;5;241;43m+\u001b[39;49m\u001b[43m  \u001b[49m\u001b[43mnum_char\u001b[49m \u001b[38;5;241m+\u001b[39m \u001b[38;5;124m\"\u001b[39m\u001b[38;5;124m character\u001b[39m\u001b[38;5;124m\"\u001b[39m)\n",
      "\u001b[1;31mTypeError\u001b[0m: can only concatenate str (not \"int\") to str"
     ]
    }
   ],
   "source": [
    "#Ta xét 1 trường hợp nữa.\n",
    "num_char = len(input(\"What is your name? \"))\n",
    "print (\"Your name has \" +  num_char + \" character\")"
   ]
  },
  {
   "cell_type": "code",
   "execution_count": null,
   "id": "1a846100",
   "metadata": {},
   "outputs": [],
   "source": [
    "#Ta không thể nào có thể chơi int cho str được."
   ]
  },
  {
   "cell_type": "code",
   "execution_count": 13,
   "id": "547910a6",
   "metadata": {},
   "outputs": [
    {
     "name": "stdout",
     "output_type": "stream",
     "text": [
      "What is your name? 123\n",
      "<class 'int'>\n"
     ]
    }
   ],
   "source": [
    "#Ta có thể check kiểu của numchar ở đây\n",
    "num_char = len(input(\"What is your name? \"))\n",
    "print(type(num_char))"
   ]
  },
  {
   "cell_type": "code",
   "execution_count": 14,
   "id": "30eff44b",
   "metadata": {},
   "outputs": [
    {
     "name": "stdout",
     "output_type": "stream",
     "text": [
      "What is your name? 123\n",
      "3\n"
     ]
    }
   ],
   "source": [
    "#Ta có thể convert num_char thành string bằng hàm str\n",
    "num_char = len(input(\"What is your name? \"))\n",
    "print(str(num_char))"
   ]
  },
  {
   "cell_type": "code",
   "execution_count": 17,
   "id": "09ea2feb",
   "metadata": {},
   "outputs": [
    {
     "name": "stdout",
     "output_type": "stream",
     "text": [
      "<class 'int'>\n",
      "<class 'str'>\n",
      "<class 'float'>\n"
     ]
    }
   ],
   "source": [
    "#Ta còn có 1 ví dụ\n",
    "a = 123\n",
    "print(type(a))\n",
    "a = str(123)\n",
    "print(type(a))\n",
    "a = float(123)\n",
    "print(type(a))"
   ]
  },
  {
   "cell_type": "code",
   "execution_count": 20,
   "id": "c6cfb063",
   "metadata": {},
   "outputs": [
    {
     "name": "stdout",
     "output_type": "stream",
     "text": [
      "170.5\n",
      "70100\n"
     ]
    }
   ],
   "source": [
    "#Hãy thử đoán kết quả nhé.\n",
    "print(70 + float(\"100.5\")) #170.5\n",
    "print(str(70) + str(100)) #70100\n"
   ]
  },
  {
   "cell_type": "markdown",
   "id": "9aabf2d8",
   "metadata": {},
   "source": [
    "# III. Bài tập 1"
   ]
  },
  {
   "cell_type": "code",
   "execution_count": null,
   "id": "ef27763b",
   "metadata": {},
   "outputs": [],
   "source": [
    "#Đây là cách giải của mình. 1 dòng duy nhất!\n",
    "# 🚨 Don't change the code below 👇\n",
    "two_digit_number = input(\"Type a two digit number: \")\n",
    "# 🚨 Don't change the code above 👆\n",
    "\n",
    "####################################\n",
    "#First *fork* your copy. Then copy-paste your code below this line 👇\n",
    "#Finally click \"Run\" to execute the tests\n",
    "\n",
    "print(int(two_digit_number[0]) + int(two_digit_number[1]))"
   ]
  },
  {
   "cell_type": "markdown",
   "id": "57164ebd",
   "metadata": {},
   "source": [
    "# IV. Các biểu thức toán học"
   ]
  },
  {
   "cell_type": "code",
   "execution_count": 21,
   "id": "4268edf2",
   "metadata": {},
   "outputs": [
    {
     "name": "stdout",
     "output_type": "stream",
     "text": [
      "8\n"
     ]
    }
   ],
   "source": [
    "#1. Phép cộng\n",
    "print(3+5)"
   ]
  },
  {
   "cell_type": "code",
   "execution_count": 26,
   "id": "11106710",
   "metadata": {},
   "outputs": [
    {
     "name": "stdout",
     "output_type": "stream",
     "text": [
      "-1\n"
     ]
    }
   ],
   "source": [
    "#2. Phép trừ\n",
    "print(1-2)"
   ]
  },
  {
   "cell_type": "code",
   "execution_count": 25,
   "id": "55a4fc03",
   "metadata": {},
   "outputs": [
    {
     "name": "stdout",
     "output_type": "stream",
     "text": [
      "21\n"
     ]
    }
   ],
   "source": [
    "#3. Phép nhân\n",
    "print(3*7)"
   ]
  },
  {
   "cell_type": "code",
   "execution_count": 23,
   "id": "5d3fa243",
   "metadata": {},
   "outputs": [
    {
     "name": "stdout",
     "output_type": "stream",
     "text": [
      "2.0\n",
      "<class 'float'>\n"
     ]
    }
   ],
   "source": [
    "#4. Phép chia\n",
    "print(6/3) #Why 2.0, not 2?\n",
    "print(type(6/3))"
   ]
  },
  {
   "cell_type": "code",
   "execution_count": 24,
   "id": "06993f60",
   "metadata": {},
   "outputs": [
    {
     "name": "stdout",
     "output_type": "stream",
     "text": [
      "8\n"
     ]
    }
   ],
   "source": [
    "#5. Dấu mũ\n",
    "print(2 ** 3) "
   ]
  },
  {
   "cell_type": "code",
   "execution_count": 27,
   "id": "053487b9",
   "metadata": {},
   "outputs": [
    {
     "name": "stdout",
     "output_type": "stream",
     "text": [
      "7.0\n"
     ]
    }
   ],
   "source": [
    "#Thứ tự làm việc\n",
    "#()\n",
    "#**\n",
    "#* /\n",
    "#+ -\n",
    "#Ex:\n",
    "print(3 * 3 + 3 / 3 - 3)"
   ]
  },
  {
   "cell_type": "code",
   "execution_count": null,
   "id": "c588a0b8",
   "metadata": {},
   "outputs": [],
   "source": [
    "##Bạn có thể debug bằng thomy"
   ]
  },
  {
   "cell_type": "markdown",
   "id": "bcc3c66e",
   "metadata": {},
   "source": [
    "# V. Bài tập 2. "
   ]
  },
  {
   "cell_type": "code",
   "execution_count": null,
   "id": "98e094f3",
   "metadata": {},
   "outputs": [],
   "source": [
    "#Đây là đáp án\n",
    "# 🚨 Don't change the code below 👇\n",
    "height = input(\"enter your height in m: \")\n",
    "weight = input(\"enter your weight in kg: \")\n",
    "# 🚨 Don't change the code above 👆\n",
    "print(int(float(weight) / (float(height) ** 2)))\n",
    "#Write your code below this line 👇"
   ]
  },
  {
   "cell_type": "markdown",
   "id": "f755be9d",
   "metadata": {},
   "source": [
    "# VI. Thao tác số và chuỗi F."
   ]
  },
  {
   "cell_type": "code",
   "execution_count": 30,
   "id": "90dc462b",
   "metadata": {},
   "outputs": [
    {
     "name": "stdout",
     "output_type": "stream",
     "text": [
      "0.6666666666666666\n",
      "0\n",
      "1\n",
      "0.67\n"
     ]
    }
   ],
   "source": [
    "#Đầu tiên là số chữ số thập phân xuất hiện\n",
    "print(2/3)\n",
    "print(int(2/3))\n",
    "print(round(2/3))\n",
    "print(round(2/3, 2))"
   ]
  },
  {
   "cell_type": "code",
   "execution_count": 1,
   "id": "9c1b3b4e",
   "metadata": {},
   "outputs": [
    {
     "name": "stdout",
     "output_type": "stream",
     "text": [
      "4\n",
      "<class 'int'>\n"
     ]
    }
   ],
   "source": [
    "#Thứ 2 là phép chia có dư\n",
    "print(9//2)\n",
    "print(type(9//2))"
   ]
  },
  {
   "cell_type": "code",
   "execution_count": 2,
   "id": "1b09db89",
   "metadata": {},
   "outputs": [
    {
     "name": "stdout",
     "output_type": "stream",
     "text": [
      "2\n"
     ]
    }
   ],
   "source": [
    "#Thứ 3 là phép toán gán nhanh\n",
    "score = 1;\n",
    "score += 1;\n",
    "print(score)"
   ]
  },
  {
   "cell_type": "code",
   "execution_count": 4,
   "id": "16b20b93",
   "metadata": {},
   "outputs": [
    {
     "name": "stdout",
     "output_type": "stream",
     "text": [
      "your score is 0, your height is 1.8, you are winning is True\n"
     ]
    }
   ],
   "source": [
    "#Thứ tư là convert sang str không cần thiết bằng cách sử dụng {}. Ta gọi là f-string\n",
    "score = 0\n",
    "height = 1.8\n",
    "isWinning = True\n",
    "print(f\"your score is {score}, your height is {height}, you are winning is {isWinning}\")"
   ]
  },
  {
   "cell_type": "markdown",
   "id": "9aba7555",
   "metadata": {},
   "source": [
    "# VII. Ex 2.3"
   ]
  },
  {
   "cell_type": "code",
   "execution_count": null,
   "id": "a42f865d",
   "metadata": {},
   "outputs": [],
   "source": [
    "#Cách giải của mình: \n",
    "# 🚨 Don't change the code below 👇\n",
    "age = input(\"What is your current age?\")\n",
    "# 🚨 Don't change the code above 👆\n",
    "day = 32850 - (int(age) * 365)\n",
    "week = 4680 - (int(age) * 52)\n",
    "month = 1080 - (int(age) * 12)\n",
    "\n",
    "print(f\"You have {day} days, {week} weeks, and {month} months left.\")\n",
    "#Write your code below this line 👇"
   ]
  },
  {
   "cell_type": "markdown",
   "id": "4fc49c31",
   "metadata": {},
   "source": [
    "# VIII. Final Project - Tip Caculator"
   ]
  },
  {
   "cell_type": "code",
   "execution_count": null,
   "id": "5c8a5948",
   "metadata": {},
   "outputs": [],
   "source": [
    "##Yêu cầu: \n",
    "#Nhập số bill (tổng), số tip (10, 12 hoặc 15%), số người cùng nhau ăn. Tính ra tiền trả cho mỗi người.\n",
    "#Sử dụng các kiến thức đã được học."
   ]
  },
  {
   "cell_type": "code",
   "execution_count": 1,
   "id": "8b860ac1",
   "metadata": {},
   "outputs": [
    {
     "name": "stdout",
     "output_type": "stream",
     "text": [
      "Welcome to the tip calculator.\n",
      "What was the total bill? $2\n",
      "What percent tip would you like to give? 10, 12, or 15? 10\n",
      "How mant people to split the bill? 2\n",
      "Each person should pay: $1.1\n"
     ]
    }
   ],
   "source": [
    "print(\"Welcome to the tip calculator.\")\n",
    "totalBill = float(input(\"What was the total bill? $\"))\n",
    "perTip = int(input(\"What percent tip would you like to give? 10, 12, or 15? \"))\n",
    "totalPeople = int(input(\"How mant people to split the bill? \"))\n",
    "\n",
    "res = round((totalBill + (totalBill * (perTip / 100)))/totalPeople, 2)\n",
    "\n",
    "print(f\"Each person should pay: ${res}\")"
   ]
  },
  {
   "cell_type": "code",
   "execution_count": null,
   "id": "ae4f6c64",
   "metadata": {},
   "outputs": [],
   "source": []
  }
 ],
 "metadata": {
  "kernelspec": {
   "display_name": "Python 3 (ipykernel)",
   "language": "python",
   "name": "python3"
  },
  "language_info": {
   "codemirror_mode": {
    "name": "ipython",
    "version": 3
   },
   "file_extension": ".py",
   "mimetype": "text/x-python",
   "name": "python",
   "nbconvert_exporter": "python",
   "pygments_lexer": "ipython3",
   "version": "3.8.8"
  }
 },
 "nbformat": 4,
 "nbformat_minor": 5
}
