{
 "cells": [
  {
   "cell_type": "markdown",
   "id": "3aed9902",
   "metadata": {},
   "source": [
    "# I. Loop"
   ]
  },
  {
   "cell_type": "code",
   "execution_count": 5,
   "id": "febc31cb",
   "metadata": {},
   "outputs": [
    {
     "name": "stdout",
     "output_type": "stream",
     "text": [
      "Apple\n",
      "Apple Pie\n",
      "Pear\n",
      "Pear Pie\n",
      "Hacker\n",
      "Hacker Pie\n"
     ]
    }
   ],
   "source": [
    "fruits = [\"Apple\", \"Pear\", \"Hacker\"]\n",
    "for fruit in fruits:\n",
    "    print(fruit)\n",
    "    print(fruit + \" Pie\")"
   ]
  },
  {
   "cell_type": "markdown",
   "id": "16628607",
   "metadata": {},
   "source": [
    "# II. Ex 5.1"
   ]
  },
  {
   "cell_type": "code",
   "execution_count": null,
   "id": "7fdd1ee2",
   "metadata": {},
   "outputs": [],
   "source": [
    "# 🚨 Don't change the code below 👇\n",
    "student_heights = input(\"Input a list of student heights \").split()\n",
    "for n in range(0, len(student_heights)):\n",
    "  student_heights[n] = int(student_heights[n])\n",
    "# 🚨 Don't change the code above 👆\n",
    "sum = 0\n",
    "for n in student_heights:\n",
    "  sum += int(n)\n",
    "print(round(sum / len(student_heights)))\n",
    "\n",
    "#First *fork* your copy. Then copy-paste your code below this line 👇\n",
    "#Finally click \"Run\" to execute the tests"
   ]
  },
  {
   "cell_type": "markdown",
   "id": "04eee1c0",
   "metadata": {},
   "source": [
    "# III. Ex 5.2"
   ]
  },
  {
   "cell_type": "code",
   "execution_count": null,
   "id": "30f6d70c",
   "metadata": {},
   "outputs": [],
   "source": [
    "# 🚨 Don't change the code below 👇\n",
    "student_scores = input(\"Input a list of student scores \").split()\n",
    "for n in range(0, len(student_scores)):\n",
    "  student_scores[n] = int(student_scores[n])\n",
    "print(student_scores)\n",
    "# 🚨 Don't change the code above 👆\n",
    "max = 0\n",
    "for n in student_scores:\n",
    "  if max < int(n):\n",
    "    max = n\n",
    "print(f\"The highest score in the class is: {max}\")\n",
    "#Write your code below this row 👇"
   ]
  },
  {
   "cell_type": "markdown",
   "id": "9b7b29a9",
   "metadata": {},
   "source": [
    "# IV. For with range"
   ]
  },
  {
   "cell_type": "code",
   "execution_count": 6,
   "id": "df52ab23",
   "metadata": {},
   "outputs": [
    {
     "name": "stdout",
     "output_type": "stream",
     "text": [
      "1\n",
      "2\n",
      "3\n",
      "4\n",
      "5\n",
      "6\n",
      "7\n",
      "8\n",
      "9\n"
     ]
    }
   ],
   "source": [
    "for n in range(1, 10): #Từ 1 đến 9\n",
    "    print(n)"
   ]
  },
  {
   "cell_type": "code",
   "execution_count": 7,
   "id": "41288237",
   "metadata": {},
   "outputs": [
    {
     "name": "stdout",
     "output_type": "stream",
     "text": [
      "1\n",
      "4\n",
      "7\n"
     ]
    }
   ],
   "source": [
    "for n in range(1, 10, 3): #Từ 1 đến 9, cách 3 số 1 lần\n",
    "    print(n)"
   ]
  },
  {
   "cell_type": "code",
   "execution_count": 8,
   "id": "699b8f60",
   "metadata": {},
   "outputs": [
    {
     "name": "stdout",
     "output_type": "stream",
     "text": [
      "0\n",
      "1\n",
      "2\n",
      "3\n",
      "4\n",
      "5\n",
      "6\n",
      "7\n",
      "8\n",
      "9\n",
      "10\n",
      "11\n"
     ]
    }
   ],
   "source": [
    "for n in range(12): #Từ 1 đến 11\n",
    "    print(n)"
   ]
  },
  {
   "cell_type": "markdown",
   "id": "b6b5a912",
   "metadata": {},
   "source": [
    "# VI. Ex 5.3"
   ]
  },
  {
   "cell_type": "code",
   "execution_count": 12,
   "id": "a7c75904",
   "metadata": {},
   "outputs": [
    {
     "name": "stdout",
     "output_type": "stream",
     "text": [
      "2550\n"
     ]
    }
   ],
   "source": [
    "#Write your code below this row 👇\n",
    "sum = 0\n",
    "for n in range(2,101,2):\n",
    "  sum += n\n",
    "print(sum)"
   ]
  },
  {
   "cell_type": "markdown",
   "id": "d415d6f3",
   "metadata": {},
   "source": [
    "# VII. Ex 5.4"
   ]
  },
  {
   "cell_type": "code",
   "execution_count": null,
   "id": "69640081",
   "metadata": {},
   "outputs": [],
   "source": [
    "#Write your code below this row 👇\n",
    "for n in range(1, 101):\n",
    "  if (n % 3 == 0) and (n % 5 == 0):\n",
    "    print('FizzBuzz')\n",
    "  elif (n % 3 == 0):\n",
    "    print('Fizz')\n",
    "  elif (n % 5 == 0):\n",
    "    print('Buzz')\n",
    "  else:\n",
    "    print(n)\n"
   ]
  },
  {
   "cell_type": "markdown",
   "id": "61039912",
   "metadata": {},
   "source": [
    "# VIII. Project days 5"
   ]
  },
  {
   "cell_type": "code",
   "execution_count": 56,
   "id": "3a8d70e5",
   "metadata": {},
   "outputs": [
    {
     "name": "stdout",
     "output_type": "stream",
     "text": [
      "Welcome to the PyPassword Generator!\n",
      "How many letters would you like in your password?\n",
      "1\n",
      "How many symbols would you like?\n",
      "1\n",
      "How many numbers would you like?\n",
      "1\n"
     ]
    }
   ],
   "source": [
    "#Password Generator Project\n",
    "import random\n",
    "letters = ['a', 'b', 'c', 'd', 'e', 'f', 'g', 'h', 'i', 'j', 'k', 'l', 'm', 'n', 'o', 'p', 'q', 'r', 's', 't', 'u', 'v', 'w', 'x', 'y', 'z', 'A', 'B', 'C', 'D', 'E', 'F', 'G', 'H', 'I', 'J', 'K', 'L', 'M', 'N', 'O', 'P', 'Q', 'R', 'S', 'T', 'U', 'V', 'W', 'X', 'Y', 'Z']\n",
    "numbers = ['0', '1', '2', '3', '4', '5', '6', '7', '8', '9']\n",
    "symbols = ['!', '#', '$', '%', '&', '(', ')', '*', '+']\n",
    "\n",
    "print(\"Welcome to the PyPassword Generator!\")\n",
    "nr_letters= int(input(\"How many letters would you like in your password?\\n\")) \n",
    "nr_symbols = int(input(f\"How many symbols would you like?\\n\"))\n",
    "nr_numbers = int(input(f\"How many numbers would you like?\\n\"))"
   ]
  },
  {
   "cell_type": "code",
   "execution_count": 43,
   "id": "52a0dfdd",
   "metadata": {},
   "outputs": [],
   "source": [
    "import random\n",
    "result = \"\""
   ]
  },
  {
   "cell_type": "code",
   "execution_count": 64,
   "id": "6ca11ead",
   "metadata": {},
   "outputs": [
    {
     "name": "stdout",
     "output_type": "stream",
     "text": [
      "Easy: k%6\n",
      "Hard: 2*V\n"
     ]
    }
   ],
   "source": [
    "#Eazy Level - Order not randomised:\n",
    "#e.g. 4 letter, 2 symbol, 2 number = JduE&!91\n",
    "result = \"\"\n",
    "for n in range(1, nr_letters + 1):\n",
    "    result += letters[random.randint(1,52) - 1]\n",
    "for n in range(1, nr_symbols + 1):\n",
    "    result += symbols[random.randint(1,9) - 1]\n",
    "for n in range(1, nr_numbers + 1):\n",
    "    result += numbers[random.randint(1,10) - 1]\n",
    "print(f\"Easy: {result}\")"
   ]
  },
  {
   "cell_type": "code",
   "execution_count": 63,
   "id": "dfc44bd0",
   "metadata": {},
   "outputs": [
    {
     "name": "stdout",
     "output_type": "stream",
     "text": [
      "Hard: 6L#\n"
     ]
    }
   ],
   "source": [
    "#Hard Level - Order of characters randomised:\n",
    "#e.g. 4 letter, 2 symbol, 2 number = g^2jk8&P\n",
    "\n",
    "#Ý tưởng: Lưu vào 1 mảng mới, dùng hàm suffle. \n",
    "arr_res = []\n",
    "for n in range(1, nr_letters + 1):\n",
    "    arr_res.append(letters[random.randint(1,52) - 1])\n",
    "for n in range(1, nr_symbols + 1):\n",
    "    arr_res.append(symbols[random.randint(1,9) - 1])\n",
    "for n in range(1, nr_numbers + 1):\n",
    "    arr_res.append(numbers[random.randint(1,10) - 1])\n",
    "random.shuffle(arr_res)\n",
    "result = \"\"\n",
    "for n in arr_res:\n",
    "    result += n\n",
    "print(f\"Hard: {result}\")"
   ]
  },
  {
   "cell_type": "code",
   "execution_count": null,
   "id": "7d7e178b",
   "metadata": {},
   "outputs": [],
   "source": []
  },
  {
   "cell_type": "code",
   "execution_count": null,
   "id": "b91f5050",
   "metadata": {},
   "outputs": [],
   "source": []
  },
  {
   "cell_type": "code",
   "execution_count": null,
   "id": "29792365",
   "metadata": {},
   "outputs": [],
   "source": []
  }
 ],
 "metadata": {
  "kernelspec": {
   "display_name": "Python 3 (ipykernel)",
   "language": "python",
   "name": "python3"
  },
  "language_info": {
   "codemirror_mode": {
    "name": "ipython",
    "version": 3
   },
   "file_extension": ".py",
   "mimetype": "text/x-python",
   "name": "python",
   "nbconvert_exporter": "python",
   "pygments_lexer": "ipython3",
   "version": "3.8.8"
  }
 },
 "nbformat": 4,
 "nbformat_minor": 5
}
