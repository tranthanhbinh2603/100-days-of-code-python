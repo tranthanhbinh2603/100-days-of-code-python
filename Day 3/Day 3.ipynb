{
 "cells": [
  {
   "cell_type": "markdown",
   "id": "cf4343b6",
   "metadata": {},
   "source": [
    "# I. Câu lệnh if. Conditional Operator."
   ]
  },
  {
   "cell_type": "code",
   "execution_count": null,
   "id": "0f15d76a",
   "metadata": {},
   "outputs": [],
   "source": [
    "#Cấu trúc:\n",
    "#if condition:\n",
    "#    do this\n",
    "#else:\n",
    "#    do this"
   ]
  },
  {
   "cell_type": "code",
   "execution_count": 2,
   "id": "b52e6964",
   "metadata": {},
   "outputs": [
    {
     "name": "stdout",
     "output_type": "stream",
     "text": [
      "Welcome to the rollercoaster!\n",
      "What is your height in cm?130\n",
      "You can ride!\n"
     ]
    }
   ],
   "source": [
    "#Example:\n",
    "print(\"Welcome to the rollercoaster!\")\n",
    "height = int(input(\"What is your height in cm? \"))\n",
    "\n",
    "if height > 120:\n",
    "    print(\"You can ride!\")\n",
    "else:\n",
    "    print(\"You can't ride!\")"
   ]
  },
  {
   "cell_type": "code",
   "execution_count": null,
   "id": "a73ea9b9",
   "metadata": {},
   "outputs": [],
   "source": [
    "#Conditional Operator: <, >, ==, <=, >=, !="
   ]
  },
  {
   "cell_type": "code",
   "execution_count": 3,
   "id": "4eff337f",
   "metadata": {},
   "outputs": [
    {
     "name": "stdout",
     "output_type": "stream",
     "text": [
      "Welcome to the rollercoaster!\n",
      "What is your height in cm? 120\n",
      "You can ride!\n"
     ]
    }
   ],
   "source": [
    "#Example 2:\n",
    "print(\"Welcome to the rollercoaster!\")\n",
    "height = int(input(\"What is your height in cm? \"))\n",
    "\n",
    "if height >= 120:\n",
    "    print(\"You can ride!\")\n",
    "else:\n",
    "    print(\"You can't ride!\")"
   ]
  },
  {
   "cell_type": "markdown",
   "id": "d76b911a",
   "metadata": {},
   "source": [
    "# II. Exer 3.1:"
   ]
  },
  {
   "cell_type": "code",
   "execution_count": null,
   "id": "0668b855",
   "metadata": {},
   "outputs": [],
   "source": [
    "#Đáp án của mình:\n",
    "# 🚨 Don't change the code below 👇\n",
    "number = int(input(\"Which number do you want to check? \"))\n",
    "# 🚨 Don't change the code above 👆\n",
    "if number % 2 == 0:\n",
    "  print(\"This is an even number.\")\n",
    "else:\n",
    "  print(\"This is an odd number.\")\n",
    "#Write your code below this line 👇"
   ]
  },
  {
   "cell_type": "markdown",
   "id": "d8f137ba",
   "metadata": {},
   "source": [
    "# III. If lồng nhau (nested if), elif."
   ]
  },
  {
   "cell_type": "code",
   "execution_count": null,
   "id": "b8a2d0ff",
   "metadata": {},
   "outputs": [],
   "source": [
    "#Cấu trúc:\n",
    "#if điều kiện:\n",
    "#  if another condi:\n",
    "#        do this\n",
    "#    else:\n",
    "#        do this\n",
    "#else:\n",
    "#    do this"
   ]
  },
  {
   "cell_type": "code",
   "execution_count": 5,
   "id": "8e9949bb",
   "metadata": {},
   "outputs": [
    {
     "name": "stdout",
     "output_type": "stream",
     "text": [
      "Welcome to the rollercoaster!\n",
      "What is your height in cm? 130\n",
      "You can ride!\n",
      "What is your age? 30\n",
      "Please pay $12\n"
     ]
    }
   ],
   "source": [
    "#Example 1: Cải thiện ex I.2\n",
    "print(\"Welcome to the rollercoaster!\")\n",
    "height = int(input(\"What is your height in cm? \"))\n",
    "\n",
    "if height >= 120:\n",
    "    print(\"You can ride!\")\n",
    "    age = int(input(\"What is your age? \"))\n",
    "    if age <= 18:\n",
    "        print(\"Please pay $7\")\n",
    "    else:\n",
    "        print(\"Please pay $12\")\n",
    "else:\n",
    "    print(\"You can't ride!\")"
   ]
  },
  {
   "cell_type": "code",
   "execution_count": null,
   "id": "3119da36",
   "metadata": {},
   "outputs": [],
   "source": [
    "#Câu lệnh elif:\n",
    "#if con1:\n",
    "#    do this\n",
    "#elif con2:\n",
    "#    do this\n",
    "#else:\n",
    "#    do this"
   ]
  },
  {
   "cell_type": "code",
   "execution_count": null,
   "id": "aea19a46",
   "metadata": {},
   "outputs": [],
   "source": [
    "#Example 2: Cải thiện ex trên\n",
    "print(\"Welcome to the rollercoaster!\")\n",
    "height = int(input(\"What is your height in cm? \"))\n",
    "\n",
    "if height >= 120:\n",
    "    print(\"You can ride!\")\n",
    "    age = int(input(\"What is your age? \"))\n",
    "    if age < 12:\n",
    "        print(\"Please pay $5\")\n",
    "    elif age <= 18:\n",
    "        print(\"Please pay $7\")\n",
    "    else:\n",
    "        print(\"Please pay $12\")\n",
    "else:\n",
    "    print(\"You can't ride!\")"
   ]
  },
  {
   "cell_type": "markdown",
   "id": "4310fe99",
   "metadata": {},
   "source": [
    "# IV. Ex 3.2"
   ]
  },
  {
   "cell_type": "code",
   "execution_count": null,
   "id": "4da0f754",
   "metadata": {},
   "outputs": [],
   "source": [
    "#Bài làm của mình:\n",
    "# 🚨 Don't change the code below 👇\n",
    "height = float(input(\"enter your height in m: \"))\n",
    "weight = float(input(\"enter your weight in kg: \"))\n",
    "# 🚨 Don't change the code above 👆\n",
    "bmi = int(round(weight / (height * height), 0))\n",
    "if bmi < 18.5:\n",
    "  print(f\"Your BMI is {bmi}, you are underweight.\")\n",
    "elif bmi < 25:\n",
    "  print(f\"Your BMI is {bmi}, you have a normal weight.\")\n",
    "elif bmi < 30:\n",
    "  print(f\"Your BMI is {bmi}, you are slightly overweight.\")\n",
    "elif bmi < 35:\n",
    "  print(f\"Your BMI is {bmi}, you are obese.\")\n",
    "else:\n",
    "  print(f\"Your BMI is {bmi}, you are clinically obese.\")\n",
    "#Write your code below this line 👇"
   ]
  },
  {
   "cell_type": "markdown",
   "id": "fa7016fa",
   "metadata": {},
   "source": [
    "# V. Ex 3.3"
   ]
  },
  {
   "cell_type": "code",
   "execution_count": null,
   "id": "f200441f",
   "metadata": {},
   "outputs": [],
   "source": [
    "#Code của mình:\n",
    "# 🚨 Don't change the code below 👇\n",
    "year = int(input(\"Which year do you want to check? \"))\n",
    "# 🚨 Don't change the code above 👆\n",
    "if (((year % 4 == 0) and (year % 100 != 0)) or (year % 400 == 0)):\n",
    "  print(\"Leap year.\")\n",
    "else:\n",
    "  print(\"Not leap year.\")\n",
    "#Write your code below this line 👇"
   ]
  },
  {
   "cell_type": "markdown",
   "id": "938f5f0d",
   "metadata": {},
   "source": [
    "# VII. Nhiều câu lệnh if lồng nhau (Multi if)"
   ]
  },
  {
   "cell_type": "code",
   "execution_count": 3,
   "id": "4b9adb66",
   "metadata": {},
   "outputs": [
    {
     "name": "stdout",
     "output_type": "stream",
     "text": [
      "Welcome to the rollercoaster!\n",
      "What is your height in cm? 121\n",
      "You can ride!\n",
      "What is your age? 20\n",
      "Adult ticket pay $12\n",
      "Do you want a photo taken? Y or N.Y\n",
      "You will pay $15\n"
     ]
    }
   ],
   "source": [
    "#Example: \n",
    "print(\"Welcome to the rollercoaster!\")\n",
    "height = int(input(\"What is your height in cm? \"))\n",
    "\n",
    "bill = 0;\n",
    "if height >= 120:\n",
    "    print(\"You can ride!\")\n",
    "    age = int(input(\"What is your age? \"))\n",
    "    if age < 12:\n",
    "        bill = 5;\n",
    "        print(\"Child ticket pay $5\")\n",
    "    elif age <= 18:\n",
    "        bill = 7\n",
    "        print(\"Youth ticket pay $7\")\n",
    "    else:\n",
    "        bill = 12\n",
    "        print(\"Adult ticket pay $12\")\n",
    "    \n",
    "    want_photo = input(\"Do you want a photo taken? Y or N.\");\n",
    "    if (str(want_photo) == \"Y\"):\n",
    "        bill += 3;\n",
    "    print(f\"You will pay ${bill}\")\n",
    "else:\n",
    "    print(\"You can't ride!\")"
   ]
  },
  {
   "cell_type": "markdown",
   "id": "9aedef9c",
   "metadata": {},
   "source": [
    "# VIII. Ex 3.4"
   ]
  },
  {
   "cell_type": "code",
   "execution_count": null,
   "id": "e45eb201",
   "metadata": {},
   "outputs": [],
   "source": [
    "#Đây là code của mình\n",
    "\n",
    "# 🚨 Don't change the code below 👇\n",
    "print(\"Welcome to Python Pizza Deliveries!\")\n",
    "size = input(\"What size pizza do you want? S, M, or L \")\n",
    "add_pepperoni = input(\"Do you want pepperoni? Y or N \")\n",
    "extra_cheese = input(\"Do you want extra cheese? Y or N \")\n",
    "# 🚨 Don't change the code above 👆\n",
    "bill = 0\n",
    "if (str(size) == \"S\"):\n",
    "  bill = 15\n",
    "elif (str(size) == \"M\"):\n",
    "  bill = 20\n",
    "else:\n",
    "  bill = 25\n",
    "\n",
    "if (str(add_pepperoni) == \"Y\"):\n",
    "  if (str(size) == \"S\"):\n",
    "    bill += 2\n",
    "  else:\n",
    "    bill += 3\n",
    "\n",
    "if (str(extra_cheese) == \"Y\"):\n",
    "  bill += 1\n",
    "\n",
    "print(f\"Your final bill is: ${bill}.\")\n",
    "#Write your code below this line 👇"
   ]
  },
  {
   "cell_type": "markdown",
   "id": "d1801e10",
   "metadata": {},
   "source": [
    "# IX. Phép và và phép hoặc (Logical Operators)"
   ]
  },
  {
   "cell_type": "code",
   "execution_count": null,
   "id": "7cb996ad",
   "metadata": {},
   "outputs": [],
   "source": [
    "#ex: \n",
    "a = 12\n",
    "a > "
   ]
  }
 ],
 "metadata": {
  "kernelspec": {
   "display_name": "Python 3 (ipykernel)",
   "language": "python",
   "name": "python3"
  },
  "language_info": {
   "codemirror_mode": {
    "name": "ipython",
    "version": 3
   },
   "file_extension": ".py",
   "mimetype": "text/x-python",
   "name": "python",
   "nbconvert_exporter": "python",
   "pygments_lexer": "ipython3",
   "version": "3.8.8"
  }
 },
 "nbformat": 4,
 "nbformat_minor": 5
}
