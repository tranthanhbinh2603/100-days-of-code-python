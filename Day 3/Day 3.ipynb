{
 "cells": [
  {
   "cell_type": "markdown",
   "id": "cf4343b6",
   "metadata": {},
   "source": [
    "# I. Câu lệnh if. Conditional Operator."
   ]
  },
  {
   "cell_type": "code",
   "execution_count": null,
   "id": "0f15d76a",
   "metadata": {},
   "outputs": [],
   "source": [
    "#Cấu trúc:\n",
    "#if condition:\n",
    "#    do this\n",
    "#else:\n",
    "#    do this"
   ]
  },
  {
   "cell_type": "code",
   "execution_count": 2,
   "id": "b52e6964",
   "metadata": {},
   "outputs": [
    {
     "name": "stdout",
     "output_type": "stream",
     "text": [
      "Welcome to the rollercoaster!\n",
      "What is your height in cm?130\n",
      "You can ride!\n"
     ]
    }
   ],
   "source": [
    "#Example:\n",
    "print(\"Welcome to the rollercoaster!\")\n",
    "height = int(input(\"What is your height in cm? \"))\n",
    "\n",
    "if height > 120:\n",
    "    print(\"You can ride!\")\n",
    "else:\n",
    "    print(\"You can't ride!\")"
   ]
  },
  {
   "cell_type": "code",
   "execution_count": null,
   "id": "a73ea9b9",
   "metadata": {},
   "outputs": [],
   "source": [
    "#Conditional Operator: <, >, ==, <=, >=, !="
   ]
  },
  {
   "cell_type": "code",
   "execution_count": 3,
   "id": "4eff337f",
   "metadata": {},
   "outputs": [
    {
     "name": "stdout",
     "output_type": "stream",
     "text": [
      "Welcome to the rollercoaster!\n",
      "What is your height in cm? 120\n",
      "You can ride!\n"
     ]
    }
   ],
   "source": [
    "#Example 2:\n",
    "print(\"Welcome to the rollercoaster!\")\n",
    "height = int(input(\"What is your height in cm? \"))\n",
    "\n",
    "if height >= 120:\n",
    "    print(\"You can ride!\")\n",
    "else:\n",
    "    print(\"You can't ride!\")"
   ]
  },
  {
   "cell_type": "markdown",
   "id": "d76b911a",
   "metadata": {},
   "source": [
    "# II. Exer 3.1:"
   ]
  },
  {
   "cell_type": "code",
   "execution_count": null,
   "id": "0668b855",
   "metadata": {},
   "outputs": [],
   "source": [
    "#Đáp án của mình:\n",
    "# 🚨 Don't change the code below 👇\n",
    "number = int(input(\"Which number do you want to check? \"))\n",
    "# 🚨 Don't change the code above 👆\n",
    "if number % 2 == 0:\n",
    "  print(\"This is an even number.\")\n",
    "else:\n",
    "  print(\"This is an odd number.\")\n",
    "#Write your code below this line 👇"
   ]
  },
  {
   "cell_type": "markdown",
   "id": "d8f137ba",
   "metadata": {},
   "source": [
    "# III. If lồng nhau (nested if), elif."
   ]
  },
  {
   "cell_type": "code",
   "execution_count": null,
   "id": "b8a2d0ff",
   "metadata": {},
   "outputs": [],
   "source": [
    "#Cấu trúc:\n",
    "#if điều kiện:\n",
    "#  if another condi:\n",
    "#        do this\n",
    "#    else:\n",
    "#        do this\n",
    "#else:\n",
    "#    do this"
   ]
  },
  {
   "cell_type": "code",
   "execution_count": 5,
   "id": "8e9949bb",
   "metadata": {},
   "outputs": [
    {
     "name": "stdout",
     "output_type": "stream",
     "text": [
      "Welcome to the rollercoaster!\n",
      "What is your height in cm? 130\n",
      "You can ride!\n",
      "What is your age? 30\n",
      "Please pay $12\n"
     ]
    }
   ],
   "source": [
    "#Example 1: Cải thiện ex I.2\n",
    "print(\"Welcome to the rollercoaster!\")\n",
    "height = int(input(\"What is your height in cm? \"))\n",
    "\n",
    "if height >= 120:\n",
    "    print(\"You can ride!\")\n",
    "    age = int(input(\"What is your age? \"))\n",
    "    if age <= 18:\n",
    "        print(\"Please pay $7\")\n",
    "    else:\n",
    "        print(\"Please pay $12\")\n",
    "else:\n",
    "    print(\"You can't ride!\")"
   ]
  },
  {
   "cell_type": "code",
   "execution_count": null,
   "id": "3119da36",
   "metadata": {},
   "outputs": [],
   "source": [
    "#Câu lệnh elif:\n",
    "#if con1:\n",
    "#    do this\n",
    "#elif con2:\n",
    "#    do this\n",
    "#else:\n",
    "#    do this"
   ]
  },
  {
   "cell_type": "code",
   "execution_count": null,
   "id": "aea19a46",
   "metadata": {},
   "outputs": [],
   "source": [
    "#Example 2: Cải thiện ex trên\n",
    "print(\"Welcome to the rollercoaster!\")\n",
    "height = int(input(\"What is your height in cm? \"))\n",
    "\n",
    "if height >= 120:\n",
    "    print(\"You can ride!\")\n",
    "    age = int(input(\"What is your age? \"))\n",
    "    if age < 12:\n",
    "        print(\"Please pay $5\")\n",
    "    elif age <= 18:\n",
    "        print(\"Please pay $7\")\n",
    "    else:\n",
    "        print(\"Please pay $12\")\n",
    "else:\n",
    "    print(\"You can't ride!\")"
   ]
  },
  {
   "cell_type": "markdown",
   "id": "4310fe99",
   "metadata": {},
   "source": [
    "# IV. Ex 3.2"
   ]
  },
  {
   "cell_type": "code",
   "execution_count": null,
   "id": "4da0f754",
   "metadata": {},
   "outputs": [],
   "source": [
    "#Bài làm của mình:\n",
    "# 🚨 Don't change the code below 👇\n",
    "height = float(input(\"enter your height in m: \"))\n",
    "weight = float(input(\"enter your weight in kg: \"))\n",
    "# 🚨 Don't change the code above 👆\n",
    "bmi = int(round(weight / (height * height), 0))\n",
    "if bmi < 18.5:\n",
    "  print(f\"Your BMI is {bmi}, you are underweight.\")\n",
    "elif bmi < 25:\n",
    "  print(f\"Your BMI is {bmi}, you have a normal weight.\")\n",
    "elif bmi < 30:\n",
    "  print(f\"Your BMI is {bmi}, you are slightly overweight.\")\n",
    "elif bmi < 35:\n",
    "  print(f\"Your BMI is {bmi}, you are obese.\")\n",
    "else:\n",
    "  print(f\"Your BMI is {bmi}, you are clinically obese.\")\n",
    "#Write your code below this line 👇"
   ]
  },
  {
   "cell_type": "markdown",
   "id": "fa7016fa",
   "metadata": {},
   "source": [
    "# V. Ex 3.3"
   ]
  },
  {
   "cell_type": "code",
   "execution_count": null,
   "id": "f200441f",
   "metadata": {},
   "outputs": [],
   "source": [
    "#Code của mình:\n",
    "# 🚨 Don't change the code below 👇\n",
    "year = int(input(\"Which year do you want to check? \"))\n",
    "# 🚨 Don't change the code above 👆\n",
    "if (((year % 4 == 0) and (year % 100 != 0)) or (year % 400 == 0)):\n",
    "  print(\"Leap year.\")\n",
    "else:\n",
    "  print(\"Not leap year.\")\n",
    "#Write your code below this line 👇"
   ]
  },
  {
   "cell_type": "code",
   "execution_count": null,
   "id": "cc6a58df",
   "metadata": {},
   "outputs": [],
   "source": []
  },
  {
   "cell_type": "code",
   "execution_count": null,
   "id": "4b9adb66",
   "metadata": {},
   "outputs": [],
   "source": []
  },
  {
   "cell_type": "code",
   "execution_count": null,
   "id": "a02b43d4",
   "metadata": {},
   "outputs": [],
   "source": []
  },
  {
   "cell_type": "code",
   "execution_count": null,
   "id": "e21d3b04",
   "metadata": {},
   "outputs": [],
   "source": []
  },
  {
   "cell_type": "code",
   "execution_count": null,
   "id": "e45eb201",
   "metadata": {},
   "outputs": [],
   "source": []
  },
  {
   "cell_type": "code",
   "execution_count": null,
   "id": "df22d55a",
   "metadata": {},
   "outputs": [],
   "source": []
  },
  {
   "cell_type": "code",
   "execution_count": null,
   "id": "7cb996ad",
   "metadata": {},
   "outputs": [],
   "source": []
  }
 ],
 "metadata": {
  "kernelspec": {
   "display_name": "Python 3 (ipykernel)",
   "language": "python",
   "name": "python3"
  },
  "language_info": {
   "codemirror_mode": {
    "name": "ipython",
    "version": 3
   },
   "file_extension": ".py",
   "mimetype": "text/x-python",
   "name": "python",
   "nbconvert_exporter": "python",
   "pygments_lexer": "ipython3",
   "version": "3.8.8"
  }
 },
 "nbformat": 4,
 "nbformat_minor": 5
}
