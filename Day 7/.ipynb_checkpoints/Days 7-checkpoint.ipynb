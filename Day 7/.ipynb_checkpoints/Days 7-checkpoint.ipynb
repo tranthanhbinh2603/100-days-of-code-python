{
 "cells": [
  {
   "cell_type": "markdown",
   "id": "356a7e1c",
   "metadata": {},
   "source": [
    "# O. Giới thiệu tựa Handman"
   ]
  },
  {
   "cell_type": "markdown",
   "id": "9d41a0cb",
   "metadata": {},
   "source": [
    "### Xem tại đây: https://en.wikipedia.org/wiki/Hangman_(game)"
   ]
  },
  {
   "cell_type": "markdown",
   "id": "527c4b7d",
   "metadata": {},
   "source": [
    "# I. Step 1"
   ]
  },
  {
   "cell_type": "code",
   "execution_count": 15,
   "id": "4ddeb132",
   "metadata": {},
   "outputs": [
    {
     "name": "stdout",
     "output_type": "stream",
     "text": [
      "A letter guess: m\n",
      "Not have\n",
      "Not have\n",
      "Not have\n",
      "Not have\n",
      "Not have\n",
      "Not have\n"
     ]
    }
   ],
   "source": [
    "#Step 1 \n",
    "\n",
    "word_list = [\"aardvark\", \"baboon\", \"camel\"]\n",
    "\n",
    "import random\n",
    "\n",
    "#TODO-1 - Randomly choose a word from the word_list and assign it to a variable called chosen_word.\n",
    "chosen_word = word_list[random.randint(0, len(word_list)) - 1]\n",
    "#TODO-2 - Ask the user to guess a letter and assign their answer to a variable called guess. Make guess lowercase.\n",
    "called_guess = str.lower(input('A letter guess: '))\n",
    "#TODO-3 - Check if the letter the user guessed (guess) is one of the letters in the chosen_word.\n",
    "for element in range(0, len(chosen_word)):\n",
    "    if (chosen_word[element].count(called_guess) == 1):\n",
    "        print('Have')\n",
    "    else:\n",
    "        print('Not have')"
   ]
  },
  {
   "cell_type": "markdown",
   "id": "dd72c714",
   "metadata": {},
   "source": [
    "# II. Step 2"
   ]
  },
  {
   "cell_type": "code",
   "execution_count": 25,
   "id": "d3d6d63b",
   "metadata": {},
   "outputs": [
    {
     "name": "stdout",
     "output_type": "stream",
     "text": [
      "Pssst, the solution is aardvark.\n",
      "Guess a letter: a\n",
      "['a', 'a', '_', '_', '_', 'a', '_', '_']\n"
     ]
    }
   ],
   "source": [
    "#Step 2\n",
    "\n",
    "import random\n",
    "word_list = [\"aardvark\", \"baboon\", \"camel\"]\n",
    "chosen_word = random.choice(word_list)\n",
    "\n",
    "#Testing code\n",
    "print(f'Pssst, the solution is {chosen_word}.')\n",
    "\n",
    "#TODO-1: - Create an empty List called display.\n",
    "#For each letter in the chosen_word, add a \"_\" to 'display'.\n",
    "#So if the chosen_word was \"apple\", display should be [\"_\", \"_\", \"_\", \"_\", \"_\"] with 5 \"_\" representing each letter to guess.\n",
    "stri = []\n",
    "for element in range(0, len(chosen_word)):\n",
    "    stri.append(\"_\")\n",
    "guess = input(\"Guess a letter: \").lower()\n",
    "\n",
    "#TODO-2: - Loop through each position in the chosen_word;\n",
    "#If the letter at that position matches 'guess' then reveal that letter in the display at that position.\n",
    "#e.g. If the user guessed \"p\" and the chosen word was \"apple\", then display should be [\"_\", \"p\", \"p\", \"_\", \"_\"].\n",
    "i = 0\n",
    "for letter in chosen_word:\n",
    "    if letter == guess:\n",
    "        stri[i] = guess;\n",
    "    i += 1\n",
    "\n",
    "#TODO-3: - Print 'display' and you should see the guessed letter in the correct position and every other letter replace with \"_\".\n",
    "#Hint - Don't worry about getting the user to guess the next letter. We'll tackle that in step 3.\n",
    "print(stri)"
   ]
  },
  {
   "cell_type": "code",
   "execution_count": null,
   "id": "83a5eb9d",
   "metadata": {},
   "outputs": [],
   "source": []
  },
  {
   "cell_type": "code",
   "execution_count": null,
   "id": "a6ba21d4",
   "metadata": {},
   "outputs": [],
   "source": []
  },
  {
   "cell_type": "code",
   "execution_count": null,
   "id": "339ebe27",
   "metadata": {},
   "outputs": [],
   "source": []
  },
  {
   "cell_type": "code",
   "execution_count": null,
   "id": "cf9bacdd",
   "metadata": {},
   "outputs": [],
   "source": []
  },
  {
   "cell_type": "code",
   "execution_count": null,
   "id": "77d2dd69",
   "metadata": {},
   "outputs": [],
   "source": []
  },
  {
   "cell_type": "code",
   "execution_count": null,
   "id": "a3222ac9",
   "metadata": {},
   "outputs": [],
   "source": []
  },
  {
   "cell_type": "code",
   "execution_count": null,
   "id": "0d1d6f6c",
   "metadata": {},
   "outputs": [],
   "source": []
  }
 ],
 "metadata": {
  "kernelspec": {
   "display_name": "Python 3 (ipykernel)",
   "language": "python",
   "name": "python3"
  },
  "language_info": {
   "codemirror_mode": {
    "name": "ipython",
    "version": 3
   },
   "file_extension": ".py",
   "mimetype": "text/x-python",
   "name": "python",
   "nbconvert_exporter": "python",
   "pygments_lexer": "ipython3",
   "version": "3.8.8"
  }
 },
 "nbformat": 4,
 "nbformat_minor": 5
}
