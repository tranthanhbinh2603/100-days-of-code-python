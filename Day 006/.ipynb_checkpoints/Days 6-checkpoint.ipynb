{
 "cells": [
  {
   "cell_type": "markdown",
   "id": "90d70a57",
   "metadata": {},
   "source": [
    "# I. Functions"
   ]
  },
  {
   "cell_type": "markdown",
   "id": "6d274e8e",
   "metadata": {},
   "source": [
    "## I.1 Build in Functions"
   ]
  },
  {
   "cell_type": "markdown",
   "id": "84ec2ec6",
   "metadata": {},
   "source": [
    "### Link: https://docs.python.org/3/library/functions.html"
   ]
  },
  {
   "cell_type": "code",
   "execution_count": 1,
   "id": "5b37b830",
   "metadata": {},
   "outputs": [
    {
     "name": "stdout",
     "output_type": "stream",
     "text": [
      "AAAAA\n"
     ]
    },
    {
     "data": {
      "text/plain": [
       "5"
      ]
     },
     "execution_count": 1,
     "metadata": {},
     "output_type": "execute_result"
    }
   ],
   "source": [
    "#1 function hay xài là print\n",
    "print('AAAAA')\n",
    "len('AAAAA')"
   ]
  },
  {
   "cell_type": "markdown",
   "id": "0f0fec0b",
   "metadata": {},
   "source": [
    "## I.2 Create func"
   ]
  },
  {
   "cell_type": "code",
   "execution_count": null,
   "id": "b0828593",
   "metadata": {},
   "outputs": [],
   "source": [
    "def my_func():\n",
    "    print('AAAA1')\n",
    "    print('BBBBB1')\n",
    "\n",
    "my_func()"
   ]
  },
  {
   "cell_type": "markdown",
   "id": "fa630fd1",
   "metadata": {},
   "source": [
    "# II. Practice in https://reeborg.ca/"
   ]
  },
  {
   "cell_type": "markdown",
   "id": "9d2ec000",
   "metadata": {},
   "source": [
    "### Nên làm theo hướng dẫn trong video. Ở đây chỉ có đáp án"
   ]
  },
  {
   "cell_type": "code",
   "execution_count": null,
   "id": "cd3518a3",
   "metadata": {},
   "outputs": [],
   "source": [
    "#https://reeborg.ca/reeborg.html?lang=en&mode=python&menu=worlds/menus/reeborg_intro_en.json&name=Alone&url=worlds/tutorial_en/alone.json\n",
    "def turn_right():\n",
    "    turn_left()\n",
    "    turn_left()\n",
    "    turn_left()\n",
    "\n",
    "def turn_move():\n",
    "    turn_right()\n",
    "    move()\n",
    "    move()\n",
    "    \n",
    "turn_right()\n",
    "turn_left()\n",
    "turn_left()\n",
    "move()\n",
    "move()\n",
    "turn_move()\n",
    "turn_move()\n",
    "turn_move()"
   ]
  },
  {
   "cell_type": "code",
   "execution_count": null,
   "id": "076d4ca7",
   "metadata": {},
   "outputs": [],
   "source": [
    "#https://reeborg.ca/reeborg.html?lang=en&mode=python&menu=worlds%2Fmenus%2Freeborg_intro_en.json&name=Hurdle%201&url=worlds%2Ftutorial_en%2Fhurdle1.json\n",
    "def move1(): \n",
    "    move()\n",
    "    turn_left()\n",
    "    move()\n",
    "    turn_left()\n",
    "    turn_left()\n",
    "    turn_left()\n",
    "    move()\n",
    "    turn_left()\n",
    "    turn_left()\n",
    "    turn_left()\n",
    "    move()\n",
    "    turn_left()\n",
    "\n",
    "move1()\n",
    "move1()\n",
    "move1()\n",
    "move1()\n",
    "move1()\n",
    "move1()"
   ]
  },
  {
   "cell_type": "markdown",
   "id": "c8ba1178",
   "metadata": {},
   "source": [
    "# III. Indention"
   ]
  },
  {
   "cell_type": "markdown",
   "id": "fcd2cd1e",
   "metadata": {},
   "source": [
    "## Đọc thêm tại https://www.w3schools.com/python/gloss_python_indentation.asp và https://peps.python.org/pep-0008/"
   ]
  },
  {
   "cell_type": "code",
   "execution_count": null,
   "id": "5b17af0c",
   "metadata": {},
   "outputs": [],
   "source": [
    "#https://reeborg.ca/reeborg.html?lang=en&mode=python&menu=worlds%2Fmenus%2Freeborg_intro_en.json&name=Hurdle%202&url=worlds%2Ftutorial_en%2Fhurdle2.json\n",
    "def move1(): \n",
    "    move()\n",
    "    turn_left()\n",
    "    move()\n",
    "    turn_left()\n",
    "    turn_left()\n",
    "    turn_left()\n",
    "    move()\n",
    "    turn_left()\n",
    "    turn_left()\n",
    "    turn_left()\n",
    "    move()\n",
    "    turn_left()\n",
    "\n",
    "while not at_goal():\n",
    "    move1()"
   ]
  },
  {
   "cell_type": "markdown",
   "id": "653d3d02",
   "metadata": {},
   "source": [
    "# IV. Ex 3.2"
   ]
  },
  {
   "cell_type": "code",
   "execution_count": null,
   "id": "a5aa871e",
   "metadata": {},
   "outputs": [],
   "source": [
    "#https://reeborg.ca/reeborg.html?lang=en&mode=python&menu=worlds/menus/reeborg_intro_en.json&name=Hurdle%203&url=worlds/tutorial_en/hurdle3.json\n",
    "def move1():\n",
    "    turn_left()\n",
    "    move()\n",
    "    turn_left()\n",
    "    turn_left()\n",
    "    turn_left()\n",
    "    move()\n",
    "    turn_left()\n",
    "    turn_left()\n",
    "    turn_left()\n",
    "    move()\n",
    "    turn_left()\n",
    "\n",
    "while not at_goal():\n",
    "    if (front_is_clear()):\n",
    "        move()\n",
    "    else: \n",
    "        move1()"
   ]
  },
  {
   "cell_type": "markdown",
   "id": "1dc40142",
   "metadata": {},
   "source": [
    "# V. Ex 3.3"
   ]
  },
  {
   "cell_type": "code",
   "execution_count": null,
   "id": "fc7e7086",
   "metadata": {},
   "outputs": [],
   "source": [
    "# http://reeborg.ca/reeborg.html?lang=en&mode=python&menu=worlds/menus/reeborg_intro_en.json&name=Hurdle%204&url=worlds/tutorial_en/hurdle4.json\n",
    "def move1():\n",
    "    turn_left()\n",
    "\n",
    "def move2():\n",
    "    turn_left()\n",
    "    turn_left()\n",
    "    turn_left()\n",
    "\n",
    "while not at_goal():\n",
    "   if wall_in_front():\n",
    "       move1()\n",
    "       int i\n",
    "       while wall_on_right():\n",
    "           move()\n",
    "           i++\n",
    "       move2()\n",
    "   else\n",
    "       move()\n",
    "       move1()\n",
    "      \n",
    "       "
   ]
  },
  {
   "cell_type": "code",
   "execution_count": null,
   "id": "0784f883",
   "metadata": {},
   "outputs": [],
   "source": []
  },
  {
   "cell_type": "code",
   "execution_count": null,
   "id": "573dfb55",
   "metadata": {},
   "outputs": [],
   "source": []
  },
  {
   "cell_type": "code",
   "execution_count": null,
   "id": "d6126ad2",
   "metadata": {},
   "outputs": [],
   "source": []
  }
 ],
 "metadata": {
  "kernelspec": {
   "display_name": "Python 3 (ipykernel)",
   "language": "python",
   "name": "python3"
  },
  "language_info": {
   "codemirror_mode": {
    "name": "ipython",
    "version": 3
   },
   "file_extension": ".py",
   "mimetype": "text/x-python",
   "name": "python",
   "nbconvert_exporter": "python",
   "pygments_lexer": "ipython3",
   "version": "3.8.8"
  }
 },
 "nbformat": 4,
 "nbformat_minor": 5
}
