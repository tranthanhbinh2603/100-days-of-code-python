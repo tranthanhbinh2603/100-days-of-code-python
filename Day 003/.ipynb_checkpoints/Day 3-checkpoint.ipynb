{
 "cells": [
  {
   "cell_type": "markdown",
   "id": "cf4343b6",
   "metadata": {},
   "source": [
    "# I. Câu lệnh if. Conditional Operator."
   ]
  },
  {
   "cell_type": "code",
   "execution_count": null,
   "id": "0f15d76a",
   "metadata": {},
   "outputs": [],
   "source": [
    "#Cấu trúc:\n",
    "#if condition:\n",
    "#    do this\n",
    "#else:\n",
    "#    do this"
   ]
  },
  {
   "cell_type": "code",
   "execution_count": 2,
   "id": "b52e6964",
   "metadata": {},
   "outputs": [
    {
     "name": "stdout",
     "output_type": "stream",
     "text": [
      "Welcome to the rollercoaster!\n",
      "What is your height in cm?130\n",
      "You can ride!\n"
     ]
    }
   ],
   "source": [
    "#Example:\n",
    "print(\"Welcome to the rollercoaster!\")\n",
    "height = int(input(\"What is your height in cm? \"))\n",
    "\n",
    "if height > 120:\n",
    "    print(\"You can ride!\")\n",
    "else:\n",
    "    print(\"You can't ride!\")"
   ]
  },
  {
   "cell_type": "code",
   "execution_count": null,
   "id": "a73ea9b9",
   "metadata": {},
   "outputs": [],
   "source": [
    "#Conditional Operator: <, >, ==, <=, >=, !="
   ]
  },
  {
   "cell_type": "code",
   "execution_count": 3,
   "id": "4eff337f",
   "metadata": {},
   "outputs": [
    {
     "name": "stdout",
     "output_type": "stream",
     "text": [
      "Welcome to the rollercoaster!\n",
      "What is your height in cm? 120\n",
      "You can ride!\n"
     ]
    }
   ],
   "source": [
    "#Example 2:\n",
    "print(\"Welcome to the rollercoaster!\")\n",
    "height = int(input(\"What is your height in cm? \"))\n",
    "\n",
    "if height >= 120:\n",
    "    print(\"You can ride!\")\n",
    "else:\n",
    "    print(\"You can't ride!\")"
   ]
  },
  {
   "cell_type": "markdown",
   "id": "d76b911a",
   "metadata": {},
   "source": [
    "# II. Exer 3.1:"
   ]
  },
  {
   "cell_type": "code",
   "execution_count": null,
   "id": "0668b855",
   "metadata": {},
   "outputs": [],
   "source": [
    "#Đáp án của mình:\n",
    "# 🚨 Don't change the code below 👇\n",
    "number = int(input(\"Which number do you want to check? \"))\n",
    "# 🚨 Don't change the code above 👆\n",
    "if number % 2 == 0:\n",
    "  print(\"This is an even number.\")\n",
    "else:\n",
    "  print(\"This is an odd number.\")\n",
    "#Write your code below this line 👇"
   ]
  },
  {
   "cell_type": "markdown",
   "id": "d8f137ba",
   "metadata": {},
   "source": [
    "# III. If lồng nhau (nested if), elif."
   ]
  },
  {
   "cell_type": "code",
   "execution_count": null,
   "id": "b8a2d0ff",
   "metadata": {},
   "outputs": [],
   "source": [
    "#Cấu trúc:\n",
    "#if điều kiện:\n",
    "#  if another condi:\n",
    "#        do this\n",
    "#    else:\n",
    "#        do this\n",
    "#else:\n",
    "#    do this"
   ]
  },
  {
   "cell_type": "code",
   "execution_count": 5,
   "id": "8e9949bb",
   "metadata": {},
   "outputs": [
    {
     "name": "stdout",
     "output_type": "stream",
     "text": [
      "Welcome to the rollercoaster!\n",
      "What is your height in cm? 130\n",
      "You can ride!\n",
      "What is your age? 30\n",
      "Please pay $12\n"
     ]
    }
   ],
   "source": [
    "#Example 1: Cải thiện ex I.2\n",
    "print(\"Welcome to the rollercoaster!\")\n",
    "height = int(input(\"What is your height in cm? \"))\n",
    "\n",
    "if height >= 120:\n",
    "    print(\"You can ride!\")\n",
    "    age = int(input(\"What is your age? \"))\n",
    "    if age <= 18:\n",
    "        print(\"Please pay $7\")\n",
    "    else:\n",
    "        print(\"Please pay $12\")\n",
    "else:\n",
    "    print(\"You can't ride!\")"
   ]
  },
  {
   "cell_type": "code",
   "execution_count": null,
   "id": "3119da36",
   "metadata": {},
   "outputs": [],
   "source": [
    "#Câu lệnh elif:\n",
    "#if con1:\n",
    "#    do this\n",
    "#elif con2:\n",
    "#    do this\n",
    "#else:\n",
    "#    do this"
   ]
  },
  {
   "cell_type": "code",
   "execution_count": null,
   "id": "aea19a46",
   "metadata": {},
   "outputs": [],
   "source": [
    "#Example 2: Cải thiện ex trên\n",
    "print(\"Welcome to the rollercoaster!\")\n",
    "height = int(input(\"What is your height in cm? \"))\n",
    "\n",
    "if height >= 120:\n",
    "    print(\"You can ride!\")\n",
    "    age = int(input(\"What is your age? \"))\n",
    "    if age < 12:\n",
    "        print(\"Please pay $5\")\n",
    "    elif age <= 18:\n",
    "        print(\"Please pay $7\")\n",
    "    else:\n",
    "        print(\"Please pay $12\")\n",
    "else:\n",
    "    print(\"You can't ride!\")"
   ]
  },
  {
   "cell_type": "markdown",
   "id": "4310fe99",
   "metadata": {},
   "source": [
    "# IV. Ex 3.2"
   ]
  },
  {
   "cell_type": "code",
   "execution_count": null,
   "id": "4da0f754",
   "metadata": {},
   "outputs": [],
   "source": [
    "#Bài làm của mình:\n",
    "# 🚨 Don't change the code below 👇\n",
    "height = float(input(\"enter your height in m: \"))\n",
    "weight = float(input(\"enter your weight in kg: \"))\n",
    "# 🚨 Don't change the code above 👆\n",
    "bmi = int(round(weight / (height * height), 0))\n",
    "if bmi < 18.5:\n",
    "  print(f\"Your BMI is {bmi}, you are underweight.\")\n",
    "elif bmi < 25:\n",
    "  print(f\"Your BMI is {bmi}, you have a normal weight.\")\n",
    "elif bmi < 30:\n",
    "  print(f\"Your BMI is {bmi}, you are slightly overweight.\")\n",
    "elif bmi < 35:\n",
    "  print(f\"Your BMI is {bmi}, you are obese.\")\n",
    "else:\n",
    "  print(f\"Your BMI is {bmi}, you are clinically obese.\")\n",
    "#Write your code below this line 👇"
   ]
  },
  {
   "cell_type": "markdown",
   "id": "fa7016fa",
   "metadata": {},
   "source": [
    "# V. Ex 3.3"
   ]
  },
  {
   "cell_type": "code",
   "execution_count": null,
   "id": "f200441f",
   "metadata": {},
   "outputs": [],
   "source": [
    "#Code của mình:\n",
    "# 🚨 Don't change the code below 👇\n",
    "year = int(input(\"Which year do you want to check? \"))\n",
    "# 🚨 Don't change the code above 👆\n",
    "if (((year % 4 == 0) and (year % 100 != 0)) or (year % 400 == 0)):\n",
    "  print(\"Leap year.\")\n",
    "else:\n",
    "  print(\"Not leap year.\")\n",
    "#Write your code below this line 👇"
   ]
  },
  {
   "cell_type": "markdown",
   "id": "938f5f0d",
   "metadata": {},
   "source": [
    "# VII. Nhiều câu lệnh if lồng nhau (Multi if)"
   ]
  },
  {
   "cell_type": "code",
   "execution_count": 3,
   "id": "4b9adb66",
   "metadata": {},
   "outputs": [
    {
     "name": "stdout",
     "output_type": "stream",
     "text": [
      "Welcome to the rollercoaster!\n",
      "What is your height in cm? 121\n",
      "You can ride!\n",
      "What is your age? 20\n",
      "Adult ticket pay $12\n",
      "Do you want a photo taken? Y or N.Y\n",
      "You will pay $15\n"
     ]
    }
   ],
   "source": [
    "#Example: \n",
    "print(\"Welcome to the rollercoaster!\")\n",
    "height = int(input(\"What is your height in cm? \"))\n",
    "\n",
    "bill = 0;\n",
    "if height >= 120:\n",
    "    print(\"You can ride!\")\n",
    "    age = int(input(\"What is your age? \"))\n",
    "    if age < 12:\n",
    "        bill = 5;\n",
    "        print(\"Child ticket pay $5\")\n",
    "    elif age <= 18:\n",
    "        bill = 7\n",
    "        print(\"Youth ticket pay $7\")\n",
    "    else:\n",
    "        bill = 12\n",
    "        print(\"Adult ticket pay $12\")\n",
    "    \n",
    "    want_photo = input(\"Do you want a photo taken? Y or N.\");\n",
    "    if (str(want_photo) == \"Y\"):\n",
    "        bill += 3;\n",
    "    print(f\"You will pay ${bill}\")\n",
    "else:\n",
    "    print(\"You can't ride!\")"
   ]
  },
  {
   "cell_type": "markdown",
   "id": "9aedef9c",
   "metadata": {},
   "source": [
    "# VIII. Ex 3.4"
   ]
  },
  {
   "cell_type": "code",
   "execution_count": null,
   "id": "e45eb201",
   "metadata": {},
   "outputs": [],
   "source": [
    "#Đây là code của mình\n",
    "\n",
    "# 🚨 Don't change the code below 👇\n",
    "print(\"Welcome to Python Pizza Deliveries!\")\n",
    "size = input(\"What size pizza do you want? S, M, or L \")\n",
    "add_pepperoni = input(\"Do you want pepperoni? Y or N \")\n",
    "extra_cheese = input(\"Do you want extra cheese? Y or N \")\n",
    "# 🚨 Don't change the code above 👆\n",
    "bill = 0\n",
    "if (str(size) == \"S\"):\n",
    "  bill = 15\n",
    "elif (str(size) == \"M\"):\n",
    "  bill = 20\n",
    "else:\n",
    "  bill = 25\n",
    "\n",
    "if (str(add_pepperoni) == \"Y\"):\n",
    "  if (str(size) == \"S\"):\n",
    "    bill += 2\n",
    "  else:\n",
    "    bill += 3\n",
    "\n",
    "if (str(extra_cheese) == \"Y\"):\n",
    "  bill += 1\n",
    "\n",
    "print(f\"Your final bill is: ${bill}.\")\n",
    "#Write your code below this line 👇"
   ]
  },
  {
   "cell_type": "markdown",
   "id": "d1801e10",
   "metadata": {},
   "source": [
    "# IX. Phép và và phép hoặc (Logical Operators)"
   ]
  },
  {
   "cell_type": "code",
   "execution_count": 4,
   "id": "7cb996ad",
   "metadata": {},
   "outputs": [
    {
     "data": {
      "text/plain": [
       "False"
      ]
     },
     "execution_count": 4,
     "metadata": {},
     "output_type": "execute_result"
    }
   ],
   "source": [
    "#ex: \n",
    "a = 12\n",
    "(a > 12) and (a == 12)"
   ]
  },
  {
   "cell_type": "code",
   "execution_count": 5,
   "id": "05d5e3a7",
   "metadata": {},
   "outputs": [
    {
     "data": {
      "text/plain": [
       "True"
      ]
     },
     "execution_count": 5,
     "metadata": {},
     "output_type": "execute_result"
    }
   ],
   "source": [
    "a = 12\n",
    "(a > 12) or (a == 12)"
   ]
  },
  {
   "cell_type": "code",
   "execution_count": 7,
   "id": "b48155db",
   "metadata": {},
   "outputs": [
    {
     "data": {
      "text/plain": [
       "True"
      ]
     },
     "execution_count": 7,
     "metadata": {},
     "output_type": "execute_result"
    }
   ],
   "source": [
    "a = 12\n",
    "not (a > 12)"
   ]
  },
  {
   "cell_type": "code",
   "execution_count": 9,
   "id": "f71d9668",
   "metadata": {},
   "outputs": [
    {
     "name": "stdout",
     "output_type": "stream",
     "text": [
      "Welcome to the rollercoaster!\n",
      "What is your height in cm? 121\n",
      "You can ride!\n",
      "What is your age? 23\n",
      "Adult ticket pay $12\n",
      "Do you want a photo taken? Y or N.Y\n",
      "You will pay $15\n"
     ]
    }
   ],
   "source": [
    "#Cải thiện chương trình\n",
    "print(\"Welcome to the rollercoaster!\")\n",
    "height = int(input(\"What is your height in cm? \"))\n",
    "\n",
    "bill = 0;\n",
    "if height >= 120:\n",
    "    print(\"You can ride!\")\n",
    "    age = int(input(\"What is your age? \"))\n",
    "    if age < 12:\n",
    "        bill = 5;\n",
    "        print(\"Child ticket pay $5\")\n",
    "    elif age <= 18:\n",
    "        bill = 7\n",
    "        print(\"Youth ticket pay $7\")\n",
    "    elif (age >= 45) and (age <= 55):\n",
    "        print(\"You will pay $0\")\n",
    "    else:\n",
    "        bill = 12\n",
    "        print(\"Adult ticket pay $12\")\n",
    "    if not ((age >= 45) and (age <= 55)):\n",
    "        want_photo = input(\"Do you want a photo taken? Y or N.\");\n",
    "        if (str(want_photo) == \"Y\"):\n",
    "            bill += 3;\n",
    "        print(f\"You will pay ${bill}\")\n",
    "        \n",
    "    \n",
    "else:\n",
    "    print(\"You can't ride!\")"
   ]
  },
  {
   "cell_type": "markdown",
   "id": "f7e1ebac",
   "metadata": {},
   "source": [
    "# X. Ex 3.5"
   ]
  },
  {
   "cell_type": "code",
   "execution_count": null,
   "id": "57d13281",
   "metadata": {},
   "outputs": [],
   "source": [
    "##Đây là code của mình\n",
    "\n",
    "# 🚨 Don't change the code below 👇\n",
    "print(\"Welcome to the Love Calculator!\")\n",
    "name1 = input(\"What is your name? \\n\")\n",
    "name2 = input(\"What is their name? \\n\")\n",
    "# 🚨 Don't change the code above 👆\n",
    "love_score = ((str(name1) + str(name2)).lower().count('t') + (str(name1) + str(name2)).lower().count('r') + (str(name1) + str(name2)).lower().count('u') + (str(name1) + str(name2)).lower().count('e')) * 10 + ((str(name1) + str(name2)).lower().count('l') + (str(name1) + str(name2)).lower().count('o') + (str(name1) + str(name2)).lower().count('v') + (str(name1) + str(name2)).lower().count('e'))\n",
    "if (love_score < 10) or (love_score > 90):\n",
    "  print(f\"Your score is {love_score}, you go together like coke and mentos.\")\n",
    "elif (love_score > 40) and (love_score < 50):\n",
    "  print(f\"Your score is {love_score}, you are alright together.\")\n",
    "else:\n",
    "  print(f\"Your score is {love_score}.\")\n",
    "#Write your code below this line 👇"
   ]
  },
  {
   "cell_type": "code",
   "execution_count": 16,
   "id": "e60b3fc9",
   "metadata": {},
   "outputs": [
    {
     "name": "stdout",
     "output_type": "stream",
     "text": [
      "hello\n"
     ]
    }
   ],
   "source": [
    "#Ta học được 2 hàm mới: Hàm lower giúp in thường chuỗi\n",
    "str = \"hEllO\";\n",
    "print(str.lower())"
   ]
  },
  {
   "cell_type": "code",
   "execution_count": 17,
   "id": "336bd27e",
   "metadata": {},
   "outputs": [
    {
     "name": "stdout",
     "output_type": "stream",
     "text": [
      "4\n"
     ]
    }
   ],
   "source": [
    "#Hàm thứ 2 in ra số lượng kí tự xuất hiện trong chuối\n",
    "str = \"lllLLLL\"\n",
    "print(str.count('L')) #Có phân biệt hoa thường"
   ]
  },
  {
   "cell_type": "markdown",
   "id": "26c87524",
   "metadata": {},
   "source": [
    "# XI. Project day 3: Treasure Island"
   ]
  },
  {
   "cell_type": "code",
   "execution_count": 15,
   "id": "30fa14a4",
   "metadata": {},
   "outputs": [
    {
     "name": "stdout",
     "output_type": "stream",
     "text": [
      "\n",
      "*******************************************************************************\n",
      "          |                   |                  |                     |\n",
      " _________|________________.=\"\"_;=.______________|_____________________|_______\n",
      "|                   |  ,-\"_,=\"\"     `\"=.|                  |\n",
      "|___________________|__\"=._o`\"-._        `\"=.______________|___________________\n",
      "          |                `\"=._o`\"=._      _`\"=._                     |\n",
      " _________|_____________________:=._o \"=._.\"_.-=\"'\"=.__________________|_______\n",
      "|                   |    __.--\" , ; `\"=._o.\" ,-\"\"\"-._ \".   |\n",
      "|___________________|_._\"  ,. .` ` `` ,  `\"-._\"-._   \". '__|___________________\n",
      "          |           |o`\"=._` , \"` `; .\". ,  \"-._\"-._; ;              |\n",
      " _________|___________| ;`-.o`\"=._; .\" ` '`.\"\\` . \"-._ /_______________|_______\n",
      "|                   | |o;    `\"-.o`\"=._``  '` \" ,__.--o;   |\n",
      "|___________________|_| ;     (#) `-.o `\"=.`_.--\"_o.-; ;___|___________________\n",
      "____/______/______/___|o;._    \"      `\".o|o_.--\"    ;o;____/______/______/____\n",
      "/______/______/______/_\"=._o--._        ; | ;        ; ;/______/______/______/_\n",
      "____/______/______/______/__\"=._o--._   ;o|o;     _._;o;____/______/______/____\n",
      "/______/______/______/______/____\"=._o._; | ;_.--\"o.--\"_/______/______/______/_\n",
      "____/______/______/______/______/_____\"=.o|o_.--\"\"___/______/______/______/____\n",
      "/______/______/______/______/______/______/______/______/______/______/______/\n",
      "*******************************************************************************\n",
      "\n",
      "Welcome to Treasure Island! Your misson is find the treasure!\n",
      "You choose left(L) or right(R)?R\n",
      "Game over!\n"
     ]
    }
   ],
   "source": [
    "print('''\n",
    "*******************************************************************************\n",
    "          |                   |                  |                     |\n",
    " _________|________________.=\"\"_;=.______________|_____________________|_______\n",
    "|                   |  ,-\"_,=\"\"     `\"=.|                  |\n",
    "|___________________|__\"=._o`\"-._        `\"=.______________|___________________\n",
    "          |                `\"=._o`\"=._      _`\"=._                     |\n",
    " _________|_____________________:=._o \"=._.\"_.-=\"'\"=.__________________|_______\n",
    "|                   |    __.--\" , ; `\"=._o.\" ,-\"\"\"-._ \".   |\n",
    "|___________________|_._\"  ,. .` ` `` ,  `\"-._\"-._   \". '__|___________________\n",
    "          |           |o`\"=._` , \"` `; .\". ,  \"-._\"-._; ;              |\n",
    " _________|___________| ;`-.o`\"=._; .\" ` '`.\"\\` . \"-._ /_______________|_______\n",
    "|                   | |o;    `\"-.o`\"=._``  '` \" ,__.--o;   |\n",
    "|___________________|_| ;     (#) `-.o `\"=.`_.--\"_o.-; ;___|___________________\n",
    "____/______/______/___|o;._    \"      `\".o|o_.--\"    ;o;____/______/______/____\n",
    "/______/______/______/_\"=._o--._        ; | ;        ; ;/______/______/______/_\n",
    "____/______/______/______/__\"=._o--._   ;o|o;     _._;o;____/______/______/____\n",
    "/______/______/______/______/____\"=._o._; | ;_.--\"o.--\"_/______/______/______/_\n",
    "____/______/______/______/______/_____\"=.o|o_.--\"\"___/______/______/______/____\n",
    "/______/______/______/______/______/______/______/______/______/______/______/\n",
    "*******************************************************************************\n",
    "''')\n",
    "print(\"Welcome to Treasure Island! Your misson is find the treasure!\")\n",
    "direction = str(input(\"You choose left(L) or right(R)?\"))\n",
    "if (direction.lower() == \"r\"):\n",
    "    print('Game over!')\n",
    "else:\n",
    "    act = str(input(\"You choose swim(S) or wait(W)?\"))\n",
    "    if (act.upper() == \"S\"):\n",
    "        print('Game over!')\n",
    "    else:\n",
    "        door = str(input(\"You choose red(R), blue(B) or yellow (Y)?\"))\n",
    "        if (door.lower() == \"r\") or (door.upper() == \"B\"):\n",
    "            print('Game over!')\n",
    "        else:\n",
    "            print('You Win!')"
   ]
  },
  {
   "cell_type": "code",
   "execution_count": null,
   "id": "f2c596dc",
   "metadata": {},
   "outputs": [],
   "source": []
  },
  {
   "cell_type": "code",
   "execution_count": null,
   "id": "7449bf0d",
   "metadata": {},
   "outputs": [],
   "source": []
  },
  {
   "cell_type": "code",
   "execution_count": null,
   "id": "c423f9bf",
   "metadata": {},
   "outputs": [],
   "source": []
  },
  {
   "cell_type": "code",
   "execution_count": null,
   "id": "227644d4",
   "metadata": {},
   "outputs": [],
   "source": []
  },
  {
   "cell_type": "code",
   "execution_count": null,
   "id": "fc6e903d",
   "metadata": {},
   "outputs": [],
   "source": []
  }
 ],
 "metadata": {
  "kernelspec": {
   "display_name": "Python 3 (ipykernel)",
   "language": "python",
   "name": "python3"
  },
  "language_info": {
   "codemirror_mode": {
    "name": "ipython",
    "version": 3
   },
   "file_extension": ".py",
   "mimetype": "text/x-python",
   "name": "python",
   "nbconvert_exporter": "python",
   "pygments_lexer": "ipython3",
   "version": "3.8.8"
  }
 },
 "nbformat": 4,
 "nbformat_minor": 5
}
