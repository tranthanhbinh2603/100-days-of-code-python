{
 "cells": [
  {
   "cell_type": "markdown",
   "id": "0783fdaa",
   "metadata": {},
   "source": [
    "# I. Bug"
   ]
  },
  {
   "cell_type": "markdown",
   "id": "852eb67a",
   "metadata": {},
   "source": [
    "#### Nói vui thì \"Everything is bugs.\" Cái gì cũng ra bug cả.    "
   ]
  },
  {
   "cell_type": "markdown",
   "id": "83b4f3a7",
   "metadata": {},
   "source": [
    "# II. Describe Problem (Hiểu vấn đề)"
   ]
  },
  {
   "cell_type": "code",
   "execution_count": 1,
   "id": "9a2dc9bb",
   "metadata": {},
   "outputs": [],
   "source": [
    "def my_function():\n",
    "  for i in range(1, 20):\n",
    "    if i == 20:\n",
    "      print(\"You got it\")\n",
    "my_function()"
   ]
  },
  {
   "cell_type": "markdown",
   "id": "7b4b7cc7",
   "metadata": {},
   "source": [
    "#### Ý định là in ra \"You got it\" khi i = 20. "
   ]
  },
  {
   "cell_type": "markdown",
   "id": "c2cc9712",
   "metadata": {},
   "source": [
    "#### Cơ mà chưa đạt được 20 mà! Nên có in ra được đâu."
   ]
  },
  {
   "cell_type": "markdown",
   "id": "f4dc3a96",
   "metadata": {},
   "source": [
    "#### Sửa chương trình ta được:"
   ]
  },
  {
   "cell_type": "code",
   "execution_count": 2,
   "id": "4130dd4d",
   "metadata": {},
   "outputs": [
    {
     "name": "stdout",
     "output_type": "stream",
     "text": [
      "You got it\n"
     ]
    }
   ],
   "source": [
    "def my_function():\n",
    "  for i in range(1, 21):\n",
    "    if i == 20:\n",
    "      print(\"You got it\")\n",
    "my_function()"
   ]
  },
  {
   "cell_type": "markdown",
   "id": "499b2823",
   "metadata": {},
   "source": [
    "# III. Reproduce the Bug (Tạo lại lỗi)"
   ]
  },
  {
   "cell_type": "code",
   "execution_count": 3,
   "id": "8aa3341b",
   "metadata": {},
   "outputs": [
    {
     "ename": "IndexError",
     "evalue": "list index out of range",
     "output_type": "error",
     "traceback": [
      "\u001b[1;31m---------------------------------------------------------------------------\u001b[0m",
      "\u001b[1;31mIndexError\u001b[0m                                Traceback (most recent call last)",
      "Input \u001b[1;32mIn [3]\u001b[0m, in \u001b[0;36m<cell line: 4>\u001b[1;34m()\u001b[0m\n\u001b[0;32m      2\u001b[0m dice_imgs \u001b[38;5;241m=\u001b[39m [\u001b[38;5;124m\"\u001b[39m\u001b[38;5;124m❶\u001b[39m\u001b[38;5;124m\"\u001b[39m, \u001b[38;5;124m\"\u001b[39m\u001b[38;5;124m❷\u001b[39m\u001b[38;5;124m\"\u001b[39m, \u001b[38;5;124m\"\u001b[39m\u001b[38;5;124m❸\u001b[39m\u001b[38;5;124m\"\u001b[39m, \u001b[38;5;124m\"\u001b[39m\u001b[38;5;124m❹\u001b[39m\u001b[38;5;124m\"\u001b[39m, \u001b[38;5;124m\"\u001b[39m\u001b[38;5;124m❺\u001b[39m\u001b[38;5;124m\"\u001b[39m, \u001b[38;5;124m\"\u001b[39m\u001b[38;5;124m❻\u001b[39m\u001b[38;5;124m\"\u001b[39m]\n\u001b[0;32m      3\u001b[0m dice_num \u001b[38;5;241m=\u001b[39m randint(\u001b[38;5;241m1\u001b[39m, \u001b[38;5;241m6\u001b[39m)\n\u001b[1;32m----> 4\u001b[0m \u001b[38;5;28mprint\u001b[39m(\u001b[43mdice_imgs\u001b[49m\u001b[43m[\u001b[49m\u001b[43mdice_num\u001b[49m\u001b[43m]\u001b[49m)\n",
      "\u001b[1;31mIndexError\u001b[0m: list index out of range"
     ]
    }
   ],
   "source": [
    "from random import randint\n",
    "dice_imgs = [\"❶\", \"❷\", \"❸\", \"❹\", \"❺\", \"❻\"]\n",
    "dice_num = randint(1, 6)\n",
    "print(dice_imgs[dice_num])"
   ]
  },
  {
   "cell_type": "markdown",
   "id": "15161027",
   "metadata": {},
   "source": [
    "#### Chạy nhiều lần code ở trên, ta thấy lỗi. Lúc này nó là 1 lỗi tinh vi đấy!"
   ]
  },
  {
   "cell_type": "code",
   "execution_count": 17,
   "id": "ed0c4ffe",
   "metadata": {},
   "outputs": [
    {
     "name": "stdout",
     "output_type": "stream",
     "text": [
      "❷\n"
     ]
    }
   ],
   "source": [
    "from random import randint\n",
    "dice_imgs = [\"❶\", \"❷\", \"❸\", \"❹\", \"❺\", \"❻\"]\n",
    "dice_num = randint(1, 6) - 1 #or dice_num = randint(0, 5) cũng được \n",
    "print(dice_imgs[dice_num])"
   ]
  },
  {
   "cell_type": "markdown",
   "id": "0dfc4b5d",
   "metadata": {},
   "source": [
    "# IV. Play Computer"
   ]
  },
  {
   "cell_type": "code",
   "execution_count": 20,
   "id": "f684c2fa",
   "metadata": {},
   "outputs": [
    {
     "name": "stdout",
     "output_type": "stream",
     "text": [
      "What's your year of birth? 1920\n"
     ]
    }
   ],
   "source": [
    "# # Play Computer\n",
    "year = int(input(\"What's your year of birth? \"))\n",
    "if year > 1980 and year < 1994:\n",
    "    print(\"You are a millenial.\")\n",
    "elif year > 1994:\n",
    "    print(\"You are a Gen Z.\")"
   ]
  },
  {
   "cell_type": "markdown",
   "id": "fe8b271a",
   "metadata": {},
   "source": [
    "#### Ủa vậy thì 1920 thì sao? Chả in ra gì cả!"
   ]
  },
  {
   "cell_type": "code",
   "execution_count": 21,
   "id": "53552797",
   "metadata": {},
   "outputs": [
    {
     "name": "stdout",
     "output_type": "stream",
     "text": [
      "What's your year of birth? 1920\n",
      "You don't millenial or Gen Z.\n"
     ]
    }
   ],
   "source": [
    "year = int(input(\"What's your year of birth? \"))\n",
    "if year > 1980 and year < 1994:\n",
    "    print(\"You are a millenial.\")\n",
    "elif year >= 1994:\n",
    "    print(\"You are a Gen Z.\")\n",
    "else:\n",
    "    print(\"You don't millenial or Gen Z.\")"
   ]
  },
  {
   "cell_type": "markdown",
   "id": "6429d272",
   "metadata": {},
   "source": [
    "#### Bài học ở đây là tính toán tất cả trường hợp có thể xảy ra."
   ]
  },
  {
   "cell_type": "markdown",
   "id": "a2896271",
   "metadata": {},
   "source": [
    "# V. Fix the Errors "
   ]
  },
  {
   "cell_type": "code",
   "execution_count": 22,
   "id": "a1092dd5",
   "metadata": {},
   "outputs": [
    {
     "name": "stdout",
     "output_type": "stream",
     "text": [
      "How old are you?10\n"
     ]
    },
    {
     "ename": "TypeError",
     "evalue": "'>' not supported between instances of 'str' and 'int'",
     "output_type": "error",
     "traceback": [
      "\u001b[1;31m---------------------------------------------------------------------------\u001b[0m",
      "\u001b[1;31mTypeError\u001b[0m                                 Traceback (most recent call last)",
      "Input \u001b[1;32mIn [22]\u001b[0m, in \u001b[0;36m<cell line: 2>\u001b[1;34m()\u001b[0m\n\u001b[0;32m      1\u001b[0m age \u001b[38;5;241m=\u001b[39m \u001b[38;5;28minput\u001b[39m(\u001b[38;5;124m\"\u001b[39m\u001b[38;5;124mHow old are you?\u001b[39m\u001b[38;5;124m\"\u001b[39m)\n\u001b[1;32m----> 2\u001b[0m \u001b[38;5;28;01mif\u001b[39;00m \u001b[43mage\u001b[49m\u001b[43m \u001b[49m\u001b[38;5;241;43m>\u001b[39;49m\u001b[43m \u001b[49m\u001b[38;5;241;43m18\u001b[39;49m:\n\u001b[0;32m      3\u001b[0m     \u001b[38;5;28mprint\u001b[39m(\u001b[38;5;124m\"\u001b[39m\u001b[38;5;124mYou can drive at age \u001b[39m\u001b[38;5;132;01m{age}\u001b[39;00m\u001b[38;5;124m.\u001b[39m\u001b[38;5;124m\"\u001b[39m)\n",
      "\u001b[1;31mTypeError\u001b[0m: '>' not supported between instances of 'str' and 'int'"
     ]
    }
   ],
   "source": [
    "age = input(\"How old are you?\")\n",
    "if age > 18:\n",
    "    print(\"You can drive at age {age}.\")"
   ]
  },
  {
   "cell_type": "markdown",
   "id": "35f8da52",
   "metadata": {},
   "source": [
    "#### Đi sửa lỗi thôi!"
   ]
  },
  {
   "cell_type": "code",
   "execution_count": 25,
   "id": "c65c2aa6",
   "metadata": {},
   "outputs": [
    {
     "name": "stdout",
     "output_type": "stream",
     "text": [
      "How old are you? 20\n",
      "You can drive at age 20.\n"
     ]
    }
   ],
   "source": [
    "age = input(\"How old are you? \")\n",
    "if int(age) > 18:\n",
    "    print(f\"You can drive at age {age}.\")"
   ]
  },
  {
   "cell_type": "markdown",
   "id": "7c70bda6",
   "metadata": {},
   "source": [
    "# VI. Print is Your Friend"
   ]
  },
  {
   "cell_type": "markdown",
   "id": "2e586580",
   "metadata": {},
   "source": [
    "#### Nhiều lúc trong khi thi đấu lập trình cũng thế, mình cũng dùng print để in biến ra"
   ]
  },
  {
   "cell_type": "code",
   "execution_count": 2,
   "id": "648e9d9d",
   "metadata": {},
   "outputs": [
    {
     "name": "stdout",
     "output_type": "stream",
     "text": [
      "Number of pages: 20\n",
      "Number of words per page: 30\n",
      "0\n"
     ]
    }
   ],
   "source": [
    "pages = 0\n",
    "word_per_page = 0\n",
    "pages = int(input(\"Number of pages: \"))\n",
    "word_per_page == int(input(\"Number of words per page: \"))\n",
    "total_words = pages * word_per_page\n",
    "print(total_words)"
   ]
  },
  {
   "cell_type": "code",
   "execution_count": 3,
   "id": "8e34bd88",
   "metadata": {},
   "outputs": [
    {
     "name": "stdout",
     "output_type": "stream",
     "text": [
      "Number of pages: 20\n",
      "Number of words per page: 30\n",
      "600\n"
     ]
    }
   ],
   "source": [
    "pages = 0\n",
    "word_per_page = 0\n",
    "pages = int(input(\"Number of pages: \"))\n",
    "word_per_page = int(input(\"Number of words per page: \"))\n",
    "total_words = pages * word_per_page\n",
    "print(total_words)"
   ]
  },
  {
   "cell_type": "markdown",
   "id": "77b502b1",
   "metadata": {},
   "source": [
    "# VII. Use a Debugger"
   ]
  },
  {
   "cell_type": "code",
   "execution_count": 3,
   "id": "8150afee",
   "metadata": {},
   "outputs": [
    {
     "name": "stdout",
     "output_type": "stream",
     "text": [
      "[26]\n"
     ]
    }
   ],
   "source": [
    "def mutate(a_list):\n",
    "  b_list = []\n",
    "  for item in a_list:\n",
    "    new_item = item * 2\n",
    "  b_list.append(new_item)\n",
    "  print(b_list)\n",
    "\n",
    "mutate([1,2,3,5,8,13])"
   ]
  },
  {
   "cell_type": "markdown",
   "id": "e0fd2f1c",
   "metadata": {},
   "source": [
    "#### Tên đã nói lên giải pháp. Và đây là source code giải pháp:"
   ]
  },
  {
   "cell_type": "code",
   "execution_count": 4,
   "id": "6443e372",
   "metadata": {},
   "outputs": [
    {
     "name": "stdout",
     "output_type": "stream",
     "text": [
      "[2, 4, 6, 10, 16, 26]\n"
     ]
    }
   ],
   "source": [
    "def mutate(a_list):\n",
    "  b_list = []\n",
    "  for item in a_list:\n",
    "    new_item = item * 2\n",
    "    b_list.append(new_item)\n",
    "  print(b_list)\n",
    "\n",
    "mutate([1,2,3,5,8,13])"
   ]
  },
  {
   "cell_type": "markdown",
   "id": "d39e286f",
   "metadata": {},
   "source": [
    "# VIII. Take a break"
   ]
  },
  {
   "cell_type": "markdown",
   "id": "73621067",
   "metadata": {},
   "source": [
    "#### Bạn có thể đi ngủ, sáng ngày mai dậy."
   ]
  },
  {
   "cell_type": "markdown",
   "id": "402cb692",
   "metadata": {},
   "source": [
    "#### Hoặc là đơn giản đi nghỉ 15 phút uống chút trà. Chả sao cả."
   ]
  },
  {
   "cell_type": "markdown",
   "id": "48016965",
   "metadata": {},
   "source": [
    "#### Bạn sẽ thấy bất ngờ."
   ]
  },
  {
   "cell_type": "markdown",
   "id": "f298b8be",
   "metadata": {},
   "source": [
    "# IX. Ask a friend"
   ]
  },
  {
   "cell_type": "markdown",
   "id": "07391563",
   "metadata": {},
   "source": [
    "# X. Run ofter. Viết code từ từ thôi."
   ]
  },
  {
   "cell_type": "markdown",
   "id": "12187181",
   "metadata": {},
   "source": [
    "# XI. Ask StackOverFlow"
   ]
  },
  {
   "cell_type": "markdown",
   "id": "813f3eba",
   "metadata": {},
   "source": [
    "# XII. Ex 13.1"
   ]
  },
  {
   "cell_type": "code",
   "execution_count": null,
   "id": "6110e8cf",
   "metadata": {},
   "outputs": [],
   "source": [
    "number = int(input(\"Which number do you want to check?\"))\n",
    "\n",
    "if number % 2 == 0: #Sửa dòng này\n",
    "  print(\"This is an even number.\")\n",
    "else:\n",
    "  print(\"This is an odd number.\")\n",
    "  \n"
   ]
  },
  {
   "cell_type": "markdown",
   "id": "490613a5",
   "metadata": {},
   "source": [
    "# XIII. Ex 13.2"
   ]
  },
  {
   "cell_type": "code",
   "execution_count": null,
   "id": "53eac4a0",
   "metadata": {},
   "outputs": [],
   "source": [
    "year = int(input(\"Which year do you want to check?\")) #Sửa dòng này\n",
    "\n",
    "if year % 4 == 0:\n",
    "  if year % 100 == 0:\n",
    "    if year % 400 == 0:\n",
    "      print(\"Leap year.\")\n",
    "    else:\n",
    "      print(\"Not leap year.\")\n",
    "  else:\n",
    "    print(\"Leap year.\")\n",
    "else:\n",
    "  print(\"Not leap year.\")\n",
    "  "
   ]
  },
  {
   "cell_type": "markdown",
   "id": "b599017d",
   "metadata": {},
   "source": [
    "# IXV. Ex 13.3"
   ]
  },
  {
   "cell_type": "code",
   "execution_count": null,
   "id": "cfbe05ab",
   "metadata": {},
   "outputs": [],
   "source": [
    "for number in range(1, 101):\n",
    "  if number % 3 == 0 and number % 5 == 0: #Sửa dòng này\n",
    "    print(\"FizzBuzz\")\n",
    "  if number % 3 == 0:\n",
    "    print(\"Fizz\")\n",
    "  if number % 5 == 0:\n",
    "    print(\"Buzz\")\n",
    "  else:\n",
    "    print(int(number)) #Sửa dòng này"
   ]
  }
 ],
 "metadata": {
  "kernelspec": {
   "display_name": "Python 3 (ipykernel)",
   "language": "python",
   "name": "python3"
  },
  "language_info": {
   "codemirror_mode": {
    "name": "ipython",
    "version": 3
   },
   "file_extension": ".py",
   "mimetype": "text/x-python",
   "name": "python",
   "nbconvert_exporter": "python",
   "pygments_lexer": "ipython3",
   "version": "3.8.8"
  }
 },
 "nbformat": 4,
 "nbformat_minor": 5
}
